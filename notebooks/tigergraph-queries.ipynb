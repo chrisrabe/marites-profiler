{
 "cells": [
  {
   "cell_type": "markdown",
   "id": "f8de11a5",
   "metadata": {},
   "source": [
    "# Tigergraph Queries\n",
    "\n",
    "## Overview\n",
    "\n",
    "Experimenting with Tigergraph queries"
   ]
  },
  {
   "cell_type": "code",
   "execution_count": 2,
   "id": "2903110a",
   "metadata": {},
   "outputs": [
    {
     "name": "stdout",
     "output_type": "stream",
     "text": [
      "Import successful.\n"
     ]
    }
   ],
   "source": [
    "import os\n",
    "import pyTigerGraph as tg\n",
    "from dotenv import load_dotenv\n",
    "\n",
    "load_dotenv()\n",
    "\n",
    "print(\"Import successful.\")"
   ]
  },
  {
   "cell_type": "code",
   "execution_count": 6,
   "id": "3559693d",
   "metadata": {},
   "outputs": [],
   "source": [
    "tg_graph = 'marites'\n",
    "tg_host = os.environ.get(\"TG_HOST\")\n",
    "tg_secret = os.environ.get(\"TG_SECRET\")\n",
    "tg_password = os.environ.get(\"TG_PASSWORD\")"
   ]
  },
  {
   "cell_type": "code",
   "execution_count": 7,
   "id": "36cd3658",
   "metadata": {},
   "outputs": [],
   "source": [
    "token = tg.TigerGraphConnection(host=tg_host, graphname=tg_graph).getToken(tg_secret)[0]\n",
    "conn = tg.TigerGraphConnection(host=tg_host, graphname=tg_graph, password=tg_password, apiToken=token)"
   ]
  },
  {
   "cell_type": "code",
   "execution_count": 8,
   "id": "c9e03353",
   "metadata": {
    "scrolled": true
   },
   "outputs": [
    {
     "data": {
      "text/plain": [
       "'[{\\n\"count\": 115,\\n\"v_type\": \"user\"\\n}]'"
      ]
     },
     "execution_count": 8,
     "metadata": {},
     "output_type": "execute_result"
    }
   ],
   "source": [
    "q = conn.gsql(\"select count(*) from user\")\n",
    "q"
   ]
  },
  {
   "cell_type": "code",
   "execution_count": 11,
   "id": "527011f4",
   "metadata": {},
   "outputs": [
    {
     "data": {
      "text/plain": [
       "'[{\\n\"v_id\": \"elonmusk\",\\n\"attributes\": {\\n\"name\": \"Elon Musk\",\\n\"username\": \"elonmusk\"\\n},\\n\"v_type\": \"user\"\\n}]'"
      ]
     },
     "execution_count": 11,
     "metadata": {},
     "output_type": "execute_result"
    }
   ],
   "source": [
    "conn.gsql('select * from user where primary_id==\"elonmusk\"')"
   ]
  },
  {
   "cell_type": "code",
   "execution_count": null,
   "id": "541a7d1b",
   "metadata": {},
   "outputs": [],
   "source": []
  }
 ],
 "metadata": {
  "kernelspec": {
   "display_name": "Python 3 (ipykernel)",
   "language": "python",
   "name": "python3"
  },
  "language_info": {
   "codemirror_mode": {
    "name": "ipython",
    "version": 3
   },
   "file_extension": ".py",
   "mimetype": "text/x-python",
   "name": "python",
   "nbconvert_exporter": "python",
   "pygments_lexer": "ipython3",
   "version": "3.9.10"
  }
 },
 "nbformat": 4,
 "nbformat_minor": 5
}
