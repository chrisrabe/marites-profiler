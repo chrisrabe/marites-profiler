{
 "cells": [
  {
   "cell_type": "code",
   "execution_count": 5,
   "id": "12b72d18",
   "metadata": {},
   "outputs": [
    {
     "data": {
      "text/plain": [
       "username\n",
       "medical_xpress    100\n",
       "slashdot          100\n",
       "Rainmaker1973     100\n",
       "PopMech           100\n",
       "archillect        100\n",
       "                 ... \n",
       "paraga              1\n",
       "jack                1\n",
       "PyTorch             1\n",
       "wlopwangling        1\n",
       "bbccomedy           1\n",
       "Length: 88, dtype: int64"
      ]
     },
     "execution_count": 5,
     "metadata": {},
     "output_type": "execute_result"
    }
   ],
   "source": [
    "import pandas as pd\n",
    "\n",
    "df = pd.read_csv('./user-tweets.csv')\n",
    "\n",
    "df.groupby(['username']).size().sort_values(ascending=False)"
   ]
  }
 ],
 "metadata": {
  "kernelspec": {
   "display_name": "Python 3 (ipykernel)",
   "language": "python",
   "name": "python3"
  },
  "language_info": {
   "codemirror_mode": {
    "name": "ipython",
    "version": 3
   },
   "file_extension": ".py",
   "mimetype": "text/x-python",
   "name": "python",
   "nbconvert_exporter": "python",
   "pygments_lexer": "ipython3",
   "version": "3.9.10"
  }
 },
 "nbformat": 4,
 "nbformat_minor": 5
}
