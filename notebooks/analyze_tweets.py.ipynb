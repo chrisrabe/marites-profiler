{
 "cells": [
  {
   "cell_type": "markdown",
   "id": "b6485b99",
   "metadata": {},
   "source": [
    "# Analyze Tweets\n",
    "## Overview\n",
    "This notebook is used to create a prototype that uses AWS to perform NLP analysis on the output of the `extract-tweets` notebook. The purpose of this prototype is to generate an output that will be fed into Tigergraph to produce our model for a user's confirmation bias.\n",
    "\n",
    "## Set up dependencies\n",
    "Execute the line below to set up dependencies"
   ]
  },
  {
   "cell_type": "code",
   "execution_count": 2,
   "id": "c404e281",
   "metadata": {},
   "outputs": [
    {
     "name": "stdout",
     "output_type": "stream",
     "text": [
      "\u001b[33mDEPRECATION: Configuring installation scheme with distutils config files is deprecated and will no longer work in the near future. If you are using a Homebrew or Linuxbrew Python, please see discussion at https://github.com/Homebrew/homebrew-core/issues/76621\u001b[0m\u001b[33m\n",
      "\u001b[0mRequirement already satisfied: requests in /usr/local/lib/python3.9/site-packages (from -r requirements.txt (line 1)) (2.27.1)\n",
      "Requirement already satisfied: pandas in /usr/local/lib/python3.9/site-packages (from -r requirements.txt (line 2)) (1.4.1)\n",
      "Requirement already satisfied: python-dotenv in /usr/local/lib/python3.9/site-packages (from -r requirements.txt (line 3)) (0.20.0)\n",
      "Requirement already satisfied: boto3 in /usr/local/lib/python3.9/site-packages (from -r requirements.txt (line 4)) (1.19.12)\n",
      "Requirement already satisfied: urllib3<1.27,>=1.21.1 in /usr/local/lib/python3.9/site-packages (from requests->-r requirements.txt (line 1)) (1.26.7)\n",
      "Requirement already satisfied: idna<4,>=2.5 in /usr/local/lib/python3.9/site-packages (from requests->-r requirements.txt (line 1)) (3.3)\n",
      "Requirement already satisfied: charset-normalizer~=2.0.0 in /usr/local/lib/python3.9/site-packages (from requests->-r requirements.txt (line 1)) (2.0.12)\n",
      "Requirement already satisfied: certifi>=2017.4.17 in /usr/local/lib/python3.9/site-packages (from requests->-r requirements.txt (line 1)) (2021.10.8)\n",
      "Requirement already satisfied: python-dateutil>=2.8.1 in /usr/local/lib/python3.9/site-packages (from pandas->-r requirements.txt (line 2)) (2.8.2)\n",
      "Requirement already satisfied: pytz>=2020.1 in /usr/local/lib/python3.9/site-packages (from pandas->-r requirements.txt (line 2)) (2022.1)\n",
      "Requirement already satisfied: numpy>=1.18.5 in /usr/local/lib/python3.9/site-packages (from pandas->-r requirements.txt (line 2)) (1.22.3)\n",
      "Requirement already satisfied: s3transfer<0.6.0,>=0.5.0 in /usr/local/lib/python3.9/site-packages (from boto3->-r requirements.txt (line 4)) (0.5.0)\n",
      "Requirement already satisfied: jmespath<1.0.0,>=0.7.1 in /usr/local/lib/python3.9/site-packages (from boto3->-r requirements.txt (line 4)) (0.10.0)\n",
      "Requirement already satisfied: botocore<1.23.0,>=1.22.12 in /usr/local/lib/python3.9/site-packages (from boto3->-r requirements.txt (line 4)) (1.22.12)\n",
      "Requirement already satisfied: six>=1.5 in /usr/local/lib/python3.9/site-packages (from python-dateutil>=2.8.1->pandas->-r requirements.txt (line 2)) (1.16.0)\n",
      "\u001b[33mDEPRECATION: Configuring installation scheme with distutils config files is deprecated and will no longer work in the near future. If you are using a Homebrew or Linuxbrew Python, please see discussion at https://github.com/Homebrew/homebrew-core/issues/76621\u001b[0m\u001b[33m\n",
      "\u001b[0m"
     ]
    }
   ],
   "source": [
    "import sys\n",
    "!{sys.executable} -m pip install -r requirements.txt"
   ]
  },
  {
   "cell_type": "markdown",
   "id": "097f63e9",
   "metadata": {},
   "source": [
    "## Prepare our data\n",
    "\n",
    "We assume that the user-tweets.csv will be in our directory. If it's not present, it would be good to run the `extract-tweets` to generate the output file."
   ]
  },
  {
   "cell_type": "code",
   "execution_count": 82,
   "id": "12b72d18",
   "metadata": {},
   "outputs": [
    {
     "data": {
      "text/html": [
       "<div>\n",
       "<style scoped>\n",
       "    .dataframe tbody tr th:only-of-type {\n",
       "        vertical-align: middle;\n",
       "    }\n",
       "\n",
       "    .dataframe tbody tr th {\n",
       "        vertical-align: top;\n",
       "    }\n",
       "\n",
       "    .dataframe thead th {\n",
       "        text-align: right;\n",
       "    }\n",
       "</style>\n",
       "<table border=\"1\" class=\"dataframe\">\n",
       "  <thead>\n",
       "    <tr style=\"text-align: right;\">\n",
       "      <th></th>\n",
       "      <th>tweet_id</th>\n",
       "      <th>username</th>\n",
       "      <th>text</th>\n",
       "    </tr>\n",
       "  </thead>\n",
       "  <tbody>\n",
       "    <tr>\n",
       "      <th>1</th>\n",
       "      <td>1511297746661253120</td>\n",
       "      <td>thesheetztweetz</td>\n",
       "      <td>Breaking - Amazon $AMZN signed the biggest roc...</td>\n",
       "    </tr>\n",
       "    <tr>\n",
       "      <th>2</th>\n",
       "      <td>1511153708654120963</td>\n",
       "      <td>thesheetztweetz</td>\n",
       "      <td>The U.S. Air Force's 388th Fighter Wing tested...</td>\n",
       "    </tr>\n",
       "    <tr>\n",
       "      <th>3</th>\n",
       "      <td>1511137391263715331</td>\n",
       "      <td>thesheetztweetz</td>\n",
       "      <td>U.S. Space Force Brig. Gen. Stephen Purdy rece...</td>\n",
       "    </tr>\n",
       "    <tr>\n",
       "      <th>4</th>\n",
       "      <td>1511087590832758789</td>\n",
       "      <td>thesheetztweetz</td>\n",
       "      <td>Due the vent valve issue, the launch director ...</td>\n",
       "    </tr>\n",
       "    <tr>\n",
       "      <th>5</th>\n",
       "      <td>1510994152175149062</td>\n",
       "      <td>thesheetztweetz</td>\n",
       "      <td>The countdown clock has now resumed at T-6:40 ...</td>\n",
       "    </tr>\n",
       "  </tbody>\n",
       "</table>\n",
       "</div>"
      ],
      "text/plain": [
       "              tweet_id         username  \\\n",
       "1  1511297746661253120  thesheetztweetz   \n",
       "2  1511153708654120963  thesheetztweetz   \n",
       "3  1511137391263715331  thesheetztweetz   \n",
       "4  1511087590832758789  thesheetztweetz   \n",
       "5  1510994152175149062  thesheetztweetz   \n",
       "\n",
       "                                                text  \n",
       "1  Breaking - Amazon $AMZN signed the biggest roc...  \n",
       "2  The U.S. Air Force's 388th Fighter Wing tested...  \n",
       "3  U.S. Space Force Brig. Gen. Stephen Purdy rece...  \n",
       "4  Due the vent valve issue, the launch director ...  \n",
       "5  The countdown clock has now resumed at T-6:40 ...  "
      ]
     },
     "execution_count": 82,
     "metadata": {},
     "output_type": "execute_result"
    }
   ],
   "source": [
    "import pandas as pd\n",
    "import re\n",
    "\n",
    "# Load all user tweets\n",
    "user_tweets = pd.read_csv('./user-tweets.csv')\n",
    "\n",
    "# Drop index column attached to user tweets csv\n",
    "user_tweets = user_tweets.drop(columns=['Unnamed: 0'])\n",
    "\n",
    "# Clean up the links from the text (they're useless to us)\n",
    "user_tweets['text'] = user_tweets['text'].apply(lambda x: re.split('https:\\/\\/.*', str(x))[0])\n",
    "\n",
    "# Remove all emojis\n",
    "user_tweets = user_tweets.astype(str).apply(lambda x: x.str.encode('ascii', 'ignore').str.decode('ascii'))\n",
    "\n",
    "# Remove blank tweets\n",
    "user_tweets = user_tweets[user_tweets.text.str.strip().str.len() != 0]\n",
    "\n",
    "# Print out results\n",
    "user_tweets.head()"
   ]
  },
  {
   "cell_type": "markdown",
   "id": "6b493b69",
   "metadata": {},
   "source": [
    "## Analyse tweets using AWS\n",
    "\n",
    "For our backend infrastructure, we'll be using AWS Comprehend as our machine learning component. It contains pre-trained models that can perform Key Phrase extraction, Sentiment analysis and Topic Modeling operations. Nothing custom required at this stage."
   ]
  },
  {
   "cell_type": "code",
   "execution_count": 112,
   "id": "93b7597d",
   "metadata": {},
   "outputs": [
    {
     "name": "stdout",
     "output_type": "stream",
     "text": [
      "The sounds of @inspiration4x DragonResilience during a phasing burn.I described in moment as an orchestra but its a more percussion-like rhythm &amp; very pleasant. So thankful for @SpaceX's talented team &amp; all the giants @NASA whose shoulders we stand on. @PolarisProgram up soon \n",
      "{'Sentiment': 'POSITIVE', 'SentimentScore': {'Positive': 0.9946348667144775, 'Negative': 0.000329022848745808, 'Neutral': 0.004913660231977701, 'Mixed': 0.00012249790597707033}, 'ResponseMetadata': {'RequestId': '73509e74-b88f-446f-9ce8-941765245803', 'HTTPStatusCode': 200, 'HTTPHeaders': {'x-amzn-requestid': '73509e74-b88f-446f-9ce8-941765245803', 'content-type': 'application/x-amz-json-1.1', 'content-length': '165', 'date': 'Wed, 06 Apr 2022 10:49:52 GMT'}, 'RetryAttempts': 0}}\n",
      "{'KeyPhrases': [{'Score': 0.9979216456413269, 'Text': 'The sounds', 'BeginOffset': 0, 'EndOffset': 10}, {'Score': 0.9858503937721252, 'Text': '@inspiration4x DragonResilience', 'BeginOffset': 14, 'EndOffset': 45}, {'Score': 0.9908527135848999, 'Text': 'a phasing burn.I', 'BeginOffset': 53, 'EndOffset': 69}, {'Score': 0.9987554550170898, 'Text': 'moment', 'BeginOffset': 83, 'EndOffset': 89}, {'Score': 0.9997801184654236, 'Text': 'an orchestra', 'BeginOffset': 93, 'EndOffset': 105}, {'Score': 0.9792375564575195, 'Text': 'a more percussion-like rhythm', 'BeginOffset': 114, 'EndOffset': 143}, {'Score': 0.9491560459136963, 'Text': '@SpaceX', 'BeginOffset': 181, 'EndOffset': 188}, {'Score': 0.8190789818763733, 'Text': 'talented team', 'BeginOffset': 191, 'EndOffset': 204}, {'Score': 0.5180449485778809, 'Text': 'amp', 'BeginOffset': 206, 'EndOffset': 209}, {'Score': 0.9567962884902954, 'Text': 'all the giants', 'BeginOffset': 211, 'EndOffset': 225}, {'Score': 0.44274550676345825, 'Text': 'NASA', 'BeginOffset': 227, 'EndOffset': 231}, {'Score': 0.9446879625320435, 'Text': 'whose shoulders', 'BeginOffset': 232, 'EndOffset': 247}], 'ResponseMetadata': {'RequestId': '07c2355d-88f6-4526-ae9f-b5e64d07b95e', 'HTTPStatusCode': 200, 'HTTPHeaders': {'x-amzn-requestid': '07c2355d-88f6-4526-ae9f-b5e64d07b95e', 'content-type': 'application/x-amz-json-1.1', 'content-length': '1043', 'date': 'Wed, 06 Apr 2022 10:49:52 GMT'}, 'RetryAttempts': 0}}\n",
      "{'Entities': [{'Score': 0.8863961696624756, 'Type': 'ORGANIZATION', 'Text': '@inspiration4x', 'BeginOffset': 14, 'EndOffset': 28}, {'Score': 0.9556844234466553, 'Type': 'ORGANIZATION', 'Text': '@SpaceX', 'BeginOffset': 181, 'EndOffset': 188}, {'Score': 0.9933352470397949, 'Type': 'ORGANIZATION', 'Text': '@NASA', 'BeginOffset': 226, 'EndOffset': 231}, {'Score': 0.8290008902549744, 'Type': 'ORGANIZATION', 'Text': '@PolarisProgram', 'BeginOffset': 261, 'EndOffset': 276}], 'ResponseMetadata': {'RequestId': '9f2ceb8c-6228-4f64-a7c4-e6dd6a0d0957', 'HTTPStatusCode': 200, 'HTTPHeaders': {'x-amzn-requestid': '9f2ceb8c-6228-4f64-a7c4-e6dd6a0d0957', 'content-type': 'application/x-amz-json-1.1', 'content-length': '433', 'date': 'Wed, 06 Apr 2022 10:49:52 GMT'}, 'RetryAttempts': 0}}\n"
     ]
    }
   ],
   "source": [
    "import boto3\n",
    "import json\n",
    "\n",
    "region = 'ap-southeast-1'\n",
    "language_code = 'en'\n",
    "\n",
    "comprehend = boto3.client('comprehend', region_name=region)\n",
    "\n",
    "def detect_key_phrases(text, language_code):\n",
    "    response = comprehend.detect_key_phrases(Text=text, LanguageCode=language_code)\n",
    "    return response\n",
    "\n",
    "def detect_entities(text, language_code):\n",
    "    response = comprehend.detect_entities(Text=text, LanguageCode=language_code)\n",
    "    return response\n",
    "\n",
    "def detect_sentiment(text, language_code):\n",
    "    response = comprehend.detect_sentiment(Text=text, LanguageCode=language_code)\n",
    "    return response\n",
    "\n",
    "text = user_tweets.iloc[20].text\n",
    "\n",
    "sentiment = detect_sentiment(text, language_code)\n",
    "key_phrases = detect_key_phrases(text, language_code)\n",
    "entities = detect_entities(text, language_code)\n",
    "\n",
    "print(text)\n",
    "print(sentiment)\n",
    "print(key_phrases)\n",
    "print(entities)"
   ]
  }
 ],
 "metadata": {
  "kernelspec": {
   "display_name": "Python 3 (ipykernel)",
   "language": "python",
   "name": "python3"
  },
  "language_info": {
   "codemirror_mode": {
    "name": "ipython",
    "version": 3
   },
   "file_extension": ".py",
   "mimetype": "text/x-python",
   "name": "python",
   "nbconvert_exporter": "python",
   "pygments_lexer": "ipython3",
   "version": "3.9.10"
  }
 },
 "nbformat": 4,
 "nbformat_minor": 5
}
