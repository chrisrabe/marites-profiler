{
 "cells": [
  {
   "cell_type": "markdown",
   "id": "b7bead7e",
   "metadata": {},
   "source": [
    "# News API Tests\n",
    "\n",
    "## Overview\n",
    "\n",
    "Aggregates results from two news APIs and standardises the format"
   ]
  },
  {
   "cell_type": "code",
   "execution_count": null,
   "id": "c49f31e0",
   "metadata": {},
   "outputs": [],
   "source": [
    "import "
   ]
  }
 ],
 "metadata": {
  "kernelspec": {
   "display_name": "Python 3 (ipykernel)",
   "language": "python",
   "name": "python3"
  },
  "language_info": {
   "codemirror_mode": {
    "name": "ipython",
    "version": 3
   },
   "file_extension": ".py",
   "mimetype": "text/x-python",
   "name": "python",
   "nbconvert_exporter": "python",
   "pygments_lexer": "ipython3",
   "version": "3.9.10"
  }
 },
 "nbformat": 4,
 "nbformat_minor": 5
}
