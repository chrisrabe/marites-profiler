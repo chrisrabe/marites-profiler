{
 "cells": [
  {
   "cell_type": "markdown",
   "id": "7d7bc52c",
   "metadata": {},
   "source": [
    "# Tigergraph Tutorial\n",
    "\n",
    "## Overview\n",
    "Notebook for experimenting with pyTigerGraph\n"
   ]
  },
  {
   "cell_type": "code",
   "execution_count": 1,
   "id": "91aa8a11",
   "metadata": {},
   "outputs": [
    {
     "name": "stdout",
     "output_type": "stream",
     "text": [
      "social\n"
     ]
    }
   ],
   "source": [
    "import os\n",
    "from dotenv import load_dotenv\n",
    "import pyTigerGraph as tg\n",
    "\n",
    "load_dotenv()\n",
    "\n",
    "tg_host = os.environ.get(\"TG_HOST\")\n",
    "tg_secret = os.environ.get(\"TG_SECRET\")\n",
    "tg_graph = os.environ.get(\"TG_GRAPH\")\n",
    "tg_password = os.environ.get(\"TG_PASSWORD\")\n",
    "\n",
    "print(tg_graph)\n",
    "\n",
    "conn = tg.TigerGraphConnection(host=tg_host, graphname=tg_graph, password=tg_password)"
   ]
  },
  {
   "cell_type": "code",
   "execution_count": 2,
   "id": "2e8aa32e",
   "metadata": {},
   "outputs": [
    {
     "name": "stdout",
     "output_type": "stream",
     "text": [
      "---- Graph social\n",
      "Vertex Types:\n",
      "- VERTEX person(PRIMARY_ID name STRING, name STRING, age INT, gender STRING, state STRING) WITH STATS=\"OUTDEGREE_BY_EDGETYPE\"\n",
      "Edge Types:\n",
      "- UNDIRECTED EDGE friendship(FROM person, TO person, connect_day DATETIME)\n",
      "\n",
      "Graphs:\n",
      "- Graph social(person:v, friendship:e)\n",
      "Jobs:\n",
      "Queries:\n",
      "\n",
      "\n",
      "\n",
      "\n"
     ]
    }
   ],
   "source": [
    "print(conn.gsql('ls', options=[]))"
   ]
  },
  {
   "cell_type": "code",
   "execution_count": 5,
   "id": "c251958f",
   "metadata": {},
   "outputs": [
    {
     "name": "stdout",
     "output_type": "stream",
     "text": [
      "Dropping all, about 1 minute ...\n",
      "Abort all active loading jobs\n",
      "Try to abort all loading jobs on graph MaritesGraph, it may take a while ...\n",
      "[ABORT_SUCCESS] No active Loading Job to abort.\n",
      "Try to abort all loading jobs on graph social, it may take a while ...\n",
      "[ABORT_SUCCESS] No active Loading Job to abort.\n",
      "Resetting GPE...\n",
      "Successfully reset GPE and GSE\n",
      "Stopping GPE GSE\n",
      "Successfully stopped GPE GSE in 0.004 seconds\n",
      "Clearing graph store...\n",
      "Successfully cleared graph store\n",
      "Starting GPE GSE RESTPP\n",
      "Successfully started GPE GSE RESTPP in 0.162 seconds\n",
      "Everything is dropped.\n"
     ]
    }
   ],
   "source": [
    "print(conn.gsql('use global drop all', options=[]))"
   ]
  },
  {
   "cell_type": "code",
   "execution_count": 6,
   "id": "99361ceb",
   "metadata": {},
   "outputs": [
    {
     "name": "stdout",
     "output_type": "stream",
     "text": [
      "Successfully created vertex types: [person].\n",
      "Successfully created edge types: [friendship].\n",
      "Stopping GPE GSE RESTPP\n",
      "Successfully stopped GPE GSE RESTPP in 36.042 seconds\n",
      "Starting GPE GSE RESTPP\n",
      "Successfully started GPE GSE RESTPP in 0.159 seconds\n",
      "The graph social is created.\n"
     ]
    }
   ],
   "source": [
    "print(conn.gsql('''\n",
    "use global\n",
    "create vertex person (primary_id name string, name string, age int, gender string, state string)\n",
    "\n",
    "create undirected edge friendship (from person, to person, connect_day datetime)\n",
    "\n",
    "create graph social (person, friendship)\n",
    "''', options=[]))"
   ]
  },
  {
   "cell_type": "code",
   "execution_count": 8,
   "id": "e68dbcb9",
   "metadata": {},
   "outputs": [
    {
     "name": "stdout",
     "output_type": "stream",
     "text": [
      "Writing person.csv\n"
     ]
    }
   ],
   "source": [
    "%%writefile person.csv\n",
    "name,gender,age,state\n",
    "Tom,male,40,ca\n",
    "Dan,male,34,ny\n",
    "Jenny,female,25,tx\n",
    "Kevin,male,28,az\n",
    "Amily,female,22,ca\n",
    "Nancy,female,20,ky\n",
    "Jack,male,26,fl"
   ]
  },
  {
   "cell_type": "code",
   "execution_count": 9,
   "id": "6c85a6c6",
   "metadata": {},
   "outputs": [
    {
     "name": "stdout",
     "output_type": "stream",
     "text": [
      "Writing friendship.csv\n"
     ]
    }
   ],
   "source": [
    "%%writefile friendship.csv\n",
    "person1,person2,date\n",
    "Tom,Dan,2017-06-03\n",
    "Tom,Jenny,2015-01-01\n",
    "Dan,Jenny,2016-08-03\n",
    "Jenny,Amily,2015-06-08\n",
    "Dan,Nancy,2016-01-03\n",
    "Nancy,Jack,2017-03-02\n",
    "Dan,Kevin,2015-12-30"
   ]
  },
  {
   "cell_type": "code",
   "execution_count": 9,
   "id": "420ad28f",
   "metadata": {},
   "outputs": [
    {
     "data": {
      "text/plain": [
       "('591645uorsq834eiae5ulsj03sjp32nf', 1652351265, '2022-05-12 10:27:45')"
      ]
     },
     "execution_count": 9,
     "metadata": {},
     "output_type": "execute_result"
    }
   ],
   "source": [
    "secret = conn.createSecret()\n",
    "conn.getToken(secret=secret)"
   ]
  },
  {
   "cell_type": "code",
   "execution_count": 11,
   "id": "8921f747",
   "metadata": {},
   "outputs": [
    {
     "data": {
      "text/html": [
       "<div>\n",
       "<style scoped>\n",
       "    .dataframe tbody tr th:only-of-type {\n",
       "        vertical-align: middle;\n",
       "    }\n",
       "\n",
       "    .dataframe tbody tr th {\n",
       "        vertical-align: top;\n",
       "    }\n",
       "\n",
       "    .dataframe thead th {\n",
       "        text-align: right;\n",
       "    }\n",
       "</style>\n",
       "<table border=\"1\" class=\"dataframe\">\n",
       "  <thead>\n",
       "    <tr style=\"text-align: right;\">\n",
       "      <th></th>\n",
       "      <th>name</th>\n",
       "      <th>gender</th>\n",
       "      <th>age</th>\n",
       "      <th>state</th>\n",
       "    </tr>\n",
       "  </thead>\n",
       "  <tbody>\n",
       "    <tr>\n",
       "      <th>0</th>\n",
       "      <td>Tom</td>\n",
       "      <td>male</td>\n",
       "      <td>40</td>\n",
       "      <td>ca</td>\n",
       "    </tr>\n",
       "    <tr>\n",
       "      <th>1</th>\n",
       "      <td>Dan</td>\n",
       "      <td>male</td>\n",
       "      <td>34</td>\n",
       "      <td>ny</td>\n",
       "    </tr>\n",
       "    <tr>\n",
       "      <th>2</th>\n",
       "      <td>Jenny</td>\n",
       "      <td>female</td>\n",
       "      <td>25</td>\n",
       "      <td>tx</td>\n",
       "    </tr>\n",
       "    <tr>\n",
       "      <th>3</th>\n",
       "      <td>Kevin</td>\n",
       "      <td>male</td>\n",
       "      <td>28</td>\n",
       "      <td>az</td>\n",
       "    </tr>\n",
       "    <tr>\n",
       "      <th>4</th>\n",
       "      <td>Amily</td>\n",
       "      <td>female</td>\n",
       "      <td>22</td>\n",
       "      <td>ca</td>\n",
       "    </tr>\n",
       "    <tr>\n",
       "      <th>5</th>\n",
       "      <td>Nancy</td>\n",
       "      <td>female</td>\n",
       "      <td>20</td>\n",
       "      <td>ky</td>\n",
       "    </tr>\n",
       "    <tr>\n",
       "      <th>6</th>\n",
       "      <td>Jack</td>\n",
       "      <td>male</td>\n",
       "      <td>26</td>\n",
       "      <td>fl</td>\n",
       "    </tr>\n",
       "  </tbody>\n",
       "</table>\n",
       "</div>"
      ],
      "text/plain": [
       "    name  gender  age state\n",
       "0    Tom    male   40    ca\n",
       "1    Dan    male   34    ny\n",
       "2  Jenny  female   25    tx\n",
       "3  Kevin    male   28    az\n",
       "4  Amily  female   22    ca\n",
       "5  Nancy  female   20    ky\n",
       "6   Jack    male   26    fl"
      ]
     },
     "execution_count": 11,
     "metadata": {},
     "output_type": "execute_result"
    }
   ],
   "source": [
    "import pandas as pd\n",
    "\n",
    "person = pd.read_csv('./person.csv')\n",
    "person"
   ]
  },
  {
   "cell_type": "code",
   "execution_count": 12,
   "id": "1e8d7a59",
   "metadata": {},
   "outputs": [
    {
     "data": {
      "text/plain": [
       "7"
      ]
     },
     "execution_count": 12,
     "metadata": {},
     "output_type": "execute_result"
    }
   ],
   "source": [
    "conn.upsertVertexDataFrame(df=person, vertexType='person', v_id='name')"
   ]
  },
  {
   "cell_type": "code",
   "execution_count": 13,
   "id": "81fbd59a",
   "metadata": {},
   "outputs": [
    {
     "data": {
      "text/html": [
       "<div>\n",
       "<style scoped>\n",
       "    .dataframe tbody tr th:only-of-type {\n",
       "        vertical-align: middle;\n",
       "    }\n",
       "\n",
       "    .dataframe tbody tr th {\n",
       "        vertical-align: top;\n",
       "    }\n",
       "\n",
       "    .dataframe thead th {\n",
       "        text-align: right;\n",
       "    }\n",
       "</style>\n",
       "<table border=\"1\" class=\"dataframe\">\n",
       "  <thead>\n",
       "    <tr style=\"text-align: right;\">\n",
       "      <th></th>\n",
       "      <th>person1</th>\n",
       "      <th>person2</th>\n",
       "      <th>date</th>\n",
       "    </tr>\n",
       "  </thead>\n",
       "  <tbody>\n",
       "    <tr>\n",
       "      <th>0</th>\n",
       "      <td>Tom</td>\n",
       "      <td>Dan</td>\n",
       "      <td>2017-06-03</td>\n",
       "    </tr>\n",
       "    <tr>\n",
       "      <th>1</th>\n",
       "      <td>Tom</td>\n",
       "      <td>Jenny</td>\n",
       "      <td>2015-01-01</td>\n",
       "    </tr>\n",
       "    <tr>\n",
       "      <th>2</th>\n",
       "      <td>Dan</td>\n",
       "      <td>Jenny</td>\n",
       "      <td>2016-08-03</td>\n",
       "    </tr>\n",
       "    <tr>\n",
       "      <th>3</th>\n",
       "      <td>Jenny</td>\n",
       "      <td>Amily</td>\n",
       "      <td>2015-06-08</td>\n",
       "    </tr>\n",
       "    <tr>\n",
       "      <th>4</th>\n",
       "      <td>Dan</td>\n",
       "      <td>Nancy</td>\n",
       "      <td>2016-01-03</td>\n",
       "    </tr>\n",
       "    <tr>\n",
       "      <th>5</th>\n",
       "      <td>Nancy</td>\n",
       "      <td>Jack</td>\n",
       "      <td>2017-03-02</td>\n",
       "    </tr>\n",
       "    <tr>\n",
       "      <th>6</th>\n",
       "      <td>Dan</td>\n",
       "      <td>Kevin</td>\n",
       "      <td>2015-12-30</td>\n",
       "    </tr>\n",
       "  </tbody>\n",
       "</table>\n",
       "</div>"
      ],
      "text/plain": [
       "  person1 person2        date\n",
       "0     Tom     Dan  2017-06-03\n",
       "1     Tom   Jenny  2015-01-01\n",
       "2     Dan   Jenny  2016-08-03\n",
       "3   Jenny   Amily  2015-06-08\n",
       "4     Dan   Nancy  2016-01-03\n",
       "5   Nancy    Jack  2017-03-02\n",
       "6     Dan   Kevin  2015-12-30"
      ]
     },
     "execution_count": 13,
     "metadata": {},
     "output_type": "execute_result"
    }
   ],
   "source": [
    "friendship = pd.read_csv('./friendship.csv')\n",
    "friendship"
   ]
  },
  {
   "cell_type": "code",
   "execution_count": 14,
   "id": "fe05c974",
   "metadata": {},
   "outputs": [
    {
     "data": {
      "text/plain": [
       "7"
      ]
     },
     "execution_count": 14,
     "metadata": {},
     "output_type": "execute_result"
    }
   ],
   "source": [
    "conn.upsertEdgeDataFrame(\n",
    "    df=friendship, \n",
    "    sourceVertexType='person',\n",
    "    edgeType='friendship',\n",
    "    targetVertexType='person',\n",
    "    from_id='person1', \n",
    "    to_id='person2',\n",
    "    attributes={'connect_day': 'date'})"
   ]
  },
  {
   "cell_type": "code",
   "execution_count": 16,
   "id": "d23ddb32",
   "metadata": {},
   "outputs": [
    {
     "data": {
      "text/html": [
       "<div>\n",
       "<style scoped>\n",
       "    .dataframe tbody tr th:only-of-type {\n",
       "        vertical-align: middle;\n",
       "    }\n",
       "\n",
       "    .dataframe tbody tr th {\n",
       "        vertical-align: top;\n",
       "    }\n",
       "\n",
       "    .dataframe thead th {\n",
       "        text-align: right;\n",
       "    }\n",
       "</style>\n",
       "<table border=\"1\" class=\"dataframe\">\n",
       "  <thead>\n",
       "    <tr style=\"text-align: right;\">\n",
       "      <th></th>\n",
       "      <th>v_id</th>\n",
       "      <th>age</th>\n",
       "      <th>gender</th>\n",
       "      <th>name</th>\n",
       "    </tr>\n",
       "  </thead>\n",
       "  <tbody>\n",
       "    <tr>\n",
       "      <th>0</th>\n",
       "      <td>Jenny</td>\n",
       "      <td>25</td>\n",
       "      <td>female</td>\n",
       "      <td>Jenny</td>\n",
       "    </tr>\n",
       "    <tr>\n",
       "      <th>1</th>\n",
       "      <td>Jack</td>\n",
       "      <td>26</td>\n",
       "      <td>male</td>\n",
       "      <td>Jack</td>\n",
       "    </tr>\n",
       "    <tr>\n",
       "      <th>2</th>\n",
       "      <td>Kevin</td>\n",
       "      <td>28</td>\n",
       "      <td>male</td>\n",
       "      <td>Kevin</td>\n",
       "    </tr>\n",
       "    <tr>\n",
       "      <th>3</th>\n",
       "      <td>Dan</td>\n",
       "      <td>34</td>\n",
       "      <td>male</td>\n",
       "      <td>Dan</td>\n",
       "    </tr>\n",
       "    <tr>\n",
       "      <th>4</th>\n",
       "      <td>Tom</td>\n",
       "      <td>40</td>\n",
       "      <td>male</td>\n",
       "      <td>Tom</td>\n",
       "    </tr>\n",
       "  </tbody>\n",
       "</table>\n",
       "</div>"
      ],
      "text/plain": [
       "    v_id  age  gender   name\n",
       "0  Jenny   25  female  Jenny\n",
       "1   Jack   26    male   Jack\n",
       "2  Kevin   28    male  Kevin\n",
       "3    Dan   34    male    Dan\n",
       "4    Tom   40    male    Tom"
      ]
     },
     "execution_count": 16,
     "metadata": {},
     "output_type": "execute_result"
    }
   ],
   "source": [
    "conn.getVertexDataframe('person', select='age,gender,name', where='age > 22')"
   ]
  },
  {
   "cell_type": "code",
   "execution_count": 17,
   "id": "0a9c4959",
   "metadata": {},
   "outputs": [
    {
     "data": {
      "text/html": [
       "<div>\n",
       "<style scoped>\n",
       "    .dataframe tbody tr th:only-of-type {\n",
       "        vertical-align: middle;\n",
       "    }\n",
       "\n",
       "    .dataframe tbody tr th {\n",
       "        vertical-align: top;\n",
       "    }\n",
       "\n",
       "    .dataframe thead th {\n",
       "        text-align: right;\n",
       "    }\n",
       "</style>\n",
       "<table border=\"1\" class=\"dataframe\">\n",
       "  <thead>\n",
       "    <tr style=\"text-align: right;\">\n",
       "      <th></th>\n",
       "      <th>v_id</th>\n",
       "      <th>name</th>\n",
       "      <th>age</th>\n",
       "      <th>gender</th>\n",
       "      <th>state</th>\n",
       "    </tr>\n",
       "  </thead>\n",
       "  <tbody>\n",
       "    <tr>\n",
       "      <th>0</th>\n",
       "      <td>Tom</td>\n",
       "      <td>Tom</td>\n",
       "      <td>40</td>\n",
       "      <td>male</td>\n",
       "      <td>ca</td>\n",
       "    </tr>\n",
       "    <tr>\n",
       "      <th>1</th>\n",
       "      <td>Jenny</td>\n",
       "      <td>Jenny</td>\n",
       "      <td>25</td>\n",
       "      <td>female</td>\n",
       "      <td>tx</td>\n",
       "    </tr>\n",
       "  </tbody>\n",
       "</table>\n",
       "</div>"
      ],
      "text/plain": [
       "    v_id   name  age  gender state\n",
       "0    Tom    Tom   40    male    ca\n",
       "1  Jenny  Jenny   25  female    tx"
      ]
     },
     "execution_count": 17,
     "metadata": {},
     "output_type": "execute_result"
    }
   ],
   "source": [
    "conn.getVertexDataframeById('person', ['Tom', 'Jenny'])"
   ]
  },
  {
   "cell_type": "code",
   "execution_count": 22,
   "id": "603fee02",
   "metadata": {},
   "outputs": [
    {
     "data": {
      "text/html": [
       "<div>\n",
       "<style scoped>\n",
       "    .dataframe tbody tr th:only-of-type {\n",
       "        vertical-align: middle;\n",
       "    }\n",
       "\n",
       "    .dataframe tbody tr th {\n",
       "        vertical-align: top;\n",
       "    }\n",
       "\n",
       "    .dataframe thead th {\n",
       "        text-align: right;\n",
       "    }\n",
       "</style>\n",
       "<table border=\"1\" class=\"dataframe\">\n",
       "  <thead>\n",
       "    <tr style=\"text-align: right;\">\n",
       "      <th></th>\n",
       "      <th>from_type</th>\n",
       "      <th>from_id</th>\n",
       "      <th>to_type</th>\n",
       "      <th>to_id</th>\n",
       "      <th>connect_day</th>\n",
       "    </tr>\n",
       "  </thead>\n",
       "  <tbody>\n",
       "    <tr>\n",
       "      <th>0</th>\n",
       "      <td>person</td>\n",
       "      <td>Tom</td>\n",
       "      <td>person</td>\n",
       "      <td>Dan</td>\n",
       "      <td>2017-06-03 00:00:00</td>\n",
       "    </tr>\n",
       "    <tr>\n",
       "      <th>1</th>\n",
       "      <td>person</td>\n",
       "      <td>Tom</td>\n",
       "      <td>person</td>\n",
       "      <td>Jenny</td>\n",
       "      <td>2015-01-01 00:00:00</td>\n",
       "    </tr>\n",
       "  </tbody>\n",
       "</table>\n",
       "</div>"
      ],
      "text/plain": [
       "  from_type from_id to_type  to_id          connect_day\n",
       "0    person     Tom  person    Dan  2017-06-03 00:00:00\n",
       "1    person     Tom  person  Jenny  2015-01-01 00:00:00"
      ]
     },
     "execution_count": 22,
     "metadata": {},
     "output_type": "execute_result"
    }
   ],
   "source": [
    "conn.getEdgesDataframe('person', 'Tom', 'friendship')"
   ]
  }
 ],
 "metadata": {
  "kernelspec": {
   "display_name": "Python 3 (ipykernel)",
   "language": "python",
   "name": "python3"
  },
  "language_info": {
   "codemirror_mode": {
    "name": "ipython",
    "version": 3
   },
   "file_extension": ".py",
   "mimetype": "text/x-python",
   "name": "python",
   "nbconvert_exporter": "python",
   "pygments_lexer": "ipython3",
   "version": "3.9.10"
  }
 },
 "nbformat": 4,
 "nbformat_minor": 5
}
