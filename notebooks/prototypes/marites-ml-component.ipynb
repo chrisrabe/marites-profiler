{
 "cells": [
  {
   "cell_type": "markdown",
   "id": "3a273d97",
   "metadata": {},
   "source": [
    "# Marites ML Component\n",
    "\n",
    "## Overview\n",
    "\n",
    "This notebook contains the main logic for the marites ML component. It uses the AWS Comprehend service to generate targeted sentimental analysis that will be used for our graph. "
   ]
  },
  {
   "cell_type": "code",
   "execution_count": 4,
   "id": "49fc1576",
   "metadata": {},
   "outputs": [
    {
     "name": "stdout",
     "output_type": "stream",
     "text": [
      "\u001b[33mDEPRECATION: Configuring installation scheme with distutils config files is deprecated and will no longer work in the near future. If you are using a Homebrew or Linuxbrew Python, please see discussion at https://github.com/Homebrew/homebrew-core/issues/76621\u001b[0m\u001b[33m\n",
      "\u001b[0mRequirement already satisfied: requests in /usr/local/lib/python3.9/site-packages (from -r requirements.txt (line 1)) (2.27.1)\n",
      "Requirement already satisfied: pandas in /usr/local/lib/python3.9/site-packages (from -r requirements.txt (line 2)) (1.4.1)\n",
      "Requirement already satisfied: python-dotenv in /usr/local/lib/python3.9/site-packages (from -r requirements.txt (line 3)) (0.20.0)\n",
      "Requirement already satisfied: boto3 in /usr/local/lib/python3.9/site-packages (from -r requirements.txt (line 4)) (1.21.37)\n",
      "Requirement already satisfied: idna<4,>=2.5 in /usr/local/lib/python3.9/site-packages (from requests->-r requirements.txt (line 1)) (3.3)\n",
      "Requirement already satisfied: charset-normalizer~=2.0.0 in /usr/local/lib/python3.9/site-packages (from requests->-r requirements.txt (line 1)) (2.0.12)\n",
      "Requirement already satisfied: urllib3<1.27,>=1.21.1 in /usr/local/lib/python3.9/site-packages (from requests->-r requirements.txt (line 1)) (1.26.7)\n",
      "Requirement already satisfied: certifi>=2017.4.17 in /usr/local/lib/python3.9/site-packages (from requests->-r requirements.txt (line 1)) (2021.10.8)\n",
      "Requirement already satisfied: python-dateutil>=2.8.1 in /usr/local/lib/python3.9/site-packages (from pandas->-r requirements.txt (line 2)) (2.8.2)\n",
      "Requirement already satisfied: numpy>=1.18.5 in /usr/local/lib/python3.9/site-packages (from pandas->-r requirements.txt (line 2)) (1.22.3)\n",
      "Requirement already satisfied: pytz>=2020.1 in /usr/local/lib/python3.9/site-packages (from pandas->-r requirements.txt (line 2)) (2022.1)\n",
      "Requirement already satisfied: jmespath<2.0.0,>=0.7.1 in /usr/local/lib/python3.9/site-packages (from boto3->-r requirements.txt (line 4)) (0.10.0)\n",
      "Requirement already satisfied: botocore<1.25.0,>=1.24.37 in /usr/local/lib/python3.9/site-packages (from boto3->-r requirements.txt (line 4)) (1.24.37)\n",
      "Requirement already satisfied: s3transfer<0.6.0,>=0.5.0 in /usr/local/lib/python3.9/site-packages (from boto3->-r requirements.txt (line 4)) (0.5.0)\n",
      "Requirement already satisfied: six>=1.5 in /usr/local/lib/python3.9/site-packages (from python-dateutil>=2.8.1->pandas->-r requirements.txt (line 2)) (1.16.0)\n",
      "\u001b[33mDEPRECATION: Configuring installation scheme with distutils config files is deprecated and will no longer work in the near future. If you are using a Homebrew or Linuxbrew Python, please see discussion at https://github.com/Homebrew/homebrew-core/issues/76621\u001b[0m\u001b[33m\n",
      "\u001b[0mName: boto3\n",
      "Version: 1.21.37\n",
      "Summary: The AWS SDK for Python\n",
      "Home-page: https://github.com/boto/boto3\n",
      "Author: Amazon Web Services\n",
      "Author-email: \n",
      "License: Apache License 2.0\n",
      "Location: /usr/local/lib/python3.9/site-packages\n",
      "Requires: botocore, jmespath, s3transfer\n",
      "Required-by: aws-lambda-powertools\n"
     ]
    }
   ],
   "source": [
    "import sys\n",
    "!{sys.executable} -m pip install -r requirements.txt\n",
    "\n",
    "!{sys.executable} -m pip show boto3"
   ]
  },
  {
   "cell_type": "markdown",
   "id": "f761cc95",
   "metadata": {},
   "source": [
    "## Prepare our data\n",
    "We assume that the `user-tweets.csv` file will be in our directory. If not present, you can run the `extract-tweets` notebook to generate this file."
   ]
  },
  {
   "cell_type": "code",
   "execution_count": 21,
   "id": "285de819",
   "metadata": {},
   "outputs": [
    {
     "name": "stdout",
     "output_type": "stream",
     "text": [
      "Import complete.\n"
     ]
    }
   ],
   "source": [
    "# Group all libaries used on this line here\n",
    "import pandas as pd\n",
    "import re\n",
    "import boto3\n",
    "import json\n",
    "import time\n",
    "from datetime import datetime\n",
    "import os\n",
    "from dotenv import load_dotenv\n",
    "from io import StringIO\n",
    "import tarfile\n",
    "\n",
    "load_dotenv()\n",
    "\n",
    "print(\"Import complete.\")"
   ]
  },
  {
   "cell_type": "code",
   "execution_count": 6,
   "id": "bf6db5ed",
   "metadata": {},
   "outputs": [],
   "source": [
    "# Group all constants used up here\n",
    "username = 'elonmusk'\n",
    "region = 'ap-southeast-1'\n",
    "language_code = 'en'\n",
    "input_bucket = 'marites-comprehend-input'\n",
    "output_bucket = 'marites-comprehend-output'\n",
    "data_access_role_arn = os.environ.get(\"DATA_ACCESS_ROLE\")\n",
    "input_doc_format = 'ONE_DOC_PER_LINE'\n",
    "\n",
    "session_id = '1' # we need to generate this in actual implementation"
   ]
  },
  {
   "cell_type": "code",
   "execution_count": 7,
   "id": "2fac8af3",
   "metadata": {},
   "outputs": [
    {
     "data": {
      "text/html": [
       "<div>\n",
       "<style scoped>\n",
       "    .dataframe tbody tr th:only-of-type {\n",
       "        vertical-align: middle;\n",
       "    }\n",
       "\n",
       "    .dataframe tbody tr th {\n",
       "        vertical-align: top;\n",
       "    }\n",
       "\n",
       "    .dataframe thead th {\n",
       "        text-align: right;\n",
       "    }\n",
       "</style>\n",
       "<table border=\"1\" class=\"dataframe\">\n",
       "  <thead>\n",
       "    <tr style=\"text-align: right;\">\n",
       "      <th></th>\n",
       "      <th>tweet_id</th>\n",
       "      <th>username</th>\n",
       "      <th>text</th>\n",
       "    </tr>\n",
       "  </thead>\n",
       "  <tbody>\n",
       "    <tr>\n",
       "      <th>1</th>\n",
       "      <td>1511297746661253120</td>\n",
       "      <td>thesheetztweetz</td>\n",
       "      <td>Breaking - Amazon $AMZN signed the biggest roc...</td>\n",
       "    </tr>\n",
       "    <tr>\n",
       "      <th>2</th>\n",
       "      <td>1511153708654120963</td>\n",
       "      <td>thesheetztweetz</td>\n",
       "      <td>The U.S. Air Force's 388th Fighter Wing tested...</td>\n",
       "    </tr>\n",
       "    <tr>\n",
       "      <th>3</th>\n",
       "      <td>1511137391263715331</td>\n",
       "      <td>thesheetztweetz</td>\n",
       "      <td>U.S. Space Force Brig. Gen. Stephen Purdy rece...</td>\n",
       "    </tr>\n",
       "    <tr>\n",
       "      <th>4</th>\n",
       "      <td>1511087590832758789</td>\n",
       "      <td>thesheetztweetz</td>\n",
       "      <td>Due the vent valve issue, the launch director ...</td>\n",
       "    </tr>\n",
       "    <tr>\n",
       "      <th>5</th>\n",
       "      <td>1510994152175149062</td>\n",
       "      <td>thesheetztweetz</td>\n",
       "      <td>The countdown clock has now resumed at T-6:40 ...</td>\n",
       "    </tr>\n",
       "  </tbody>\n",
       "</table>\n",
       "</div>"
      ],
      "text/plain": [
       "              tweet_id         username  \\\n",
       "1  1511297746661253120  thesheetztweetz   \n",
       "2  1511153708654120963  thesheetztweetz   \n",
       "3  1511137391263715331  thesheetztweetz   \n",
       "4  1511087590832758789  thesheetztweetz   \n",
       "5  1510994152175149062  thesheetztweetz   \n",
       "\n",
       "                                                text  \n",
       "1  Breaking - Amazon $AMZN signed the biggest roc...  \n",
       "2  The U.S. Air Force's 388th Fighter Wing tested...  \n",
       "3  U.S. Space Force Brig. Gen. Stephen Purdy rece...  \n",
       "4  Due the vent valve issue, the launch director ...  \n",
       "5  The countdown clock has now resumed at T-6:40 ...  "
      ]
     },
     "execution_count": 7,
     "metadata": {},
     "output_type": "execute_result"
    }
   ],
   "source": [
    "def prepare_data(data):\n",
    "    user_tweets = data\n",
    "    \n",
    "    # Drop the index column attached to user tweets csv\n",
    "    user_tweets = user_tweets.drop(columns=[\"Unnamed: 0\"])\n",
    "    \n",
    "    # Clean up the links from the text (they're useless to us)\n",
    "    user_tweets['text'] = user_tweets['text'].apply(lambda x: re.split('https:\\/\\/.*', str(x))[0])\n",
    "\n",
    "    # Remove all emojis\n",
    "    user_tweets = user_tweets.astype(str).apply(lambda x: x.str.encode('ascii', 'ignore').str.decode('ascii'))\n",
    "\n",
    "    # Remove blank tweets\n",
    "    user_tweets = user_tweets[user_tweets.text.str.strip().str.len() != 0]\n",
    "\n",
    "    # Ensure that all text is in a single line\n",
    "    user_tweets.text = user_tweets.text.str.replace('\\n', ' ');\n",
    "    user_tweets.text = user_tweets.text.str.replace('\\r', ' ');\n",
    "    \n",
    "    return user_tweets\n",
    "\n",
    "raw_tweets = pd.read_csv('./user-tweets.csv')\n",
    "user_tweets = prepare_data(raw_tweets)\n",
    "user_tweets.head()"
   ]
  },
  {
   "cell_type": "markdown",
   "id": "fae96e2a",
   "metadata": {},
   "source": [
    "## Analyse tweets using AWS\n",
    "\n",
    "We'll use AWS Comprehend's targeted sentimental analysis to identify a user's sentiment towards a particular topic or entity."
   ]
  },
  {
   "cell_type": "code",
   "execution_count": 8,
   "id": "3142b70c",
   "metadata": {},
   "outputs": [
    {
     "data": {
      "text/plain": [
       "{'ResponseMetadata': {'RequestId': '8YFH6GRGW3MKY1ED',\n",
       "  'HostId': '+TlAWrH12mgDidfpUlOu5mN7rCTTKIzyx503SCpxK7vwUSd3a/oz9FEVKy4f2eoceYbVh+zIqBQ=',\n",
       "  'HTTPStatusCode': 200,\n",
       "  'HTTPHeaders': {'x-amz-id-2': '+TlAWrH12mgDidfpUlOu5mN7rCTTKIzyx503SCpxK7vwUSd3a/oz9FEVKy4f2eoceYbVh+zIqBQ=',\n",
       "   'x-amz-request-id': '8YFH6GRGW3MKY1ED',\n",
       "   'date': 'Sun, 10 Apr 2022 00:55:31 GMT',\n",
       "   'x-amz-expiration': 'expiry-date=\"Tue, 12 Apr 2022 00:00:00 GMT\", rule-id=\"comprehend-bucket-lifecycle\"',\n",
       "   'etag': '\"d3933e79fb02a6cad17cd1cdb405767b\"',\n",
       "   'server': 'AmazonS3',\n",
       "   'content-length': '0'},\n",
       "  'RetryAttempts': 0},\n",
       " 'Expiration': 'expiry-date=\"Tue, 12 Apr 2022 00:00:00 GMT\", rule-id=\"comprehend-bucket-lifecycle\"',\n",
       " 'ETag': '\"d3933e79fb02a6cad17cd1cdb405767b\"'}"
      ]
     },
     "execution_count": 8,
     "metadata": {},
     "output_type": "execute_result"
    }
   ],
   "source": [
    "def upload_to_s3(data, bucket_name, file_name):\n",
    "    text_buffer = StringIO()\n",
    "    data.text.to_csv(text_buffer, sep=' ', index=False, header=False)\n",
    "    s3_resource = boto3.resource('s3')\n",
    "    return s3_resource.Object(bucket_name, file_name).put(Body=text_buffer.getvalue())\n",
    "\n",
    "date = datetime.now().strftime(\"%m-%d-%y\")\n",
    "job_suffix = '{}-{}'.format(date, username)\n",
    "input_file_name = '{}/{}/{}-input.txt'.format(session_id, username, job_suffix)\n",
    "upload_to_s3(user_tweets, input_bucket, input_file_name)"
   ]
  },
  {
   "cell_type": "code",
   "execution_count": 10,
   "id": "0ac64fc6",
   "metadata": {},
   "outputs": [
    {
     "name": "stdout",
     "output_type": "stream",
     "text": [
      "job_id: 1acb7e9516f91f9ee7d50da370a8cace\n"
     ]
    }
   ],
   "source": [
    "input_s3_url = 's3://{}/{}/{}'.format(input_bucket, session_id, username)\n",
    "output_s3_url = 's3://{}/{}/{}'.format(output_bucket, session_id, username)\n",
    "\n",
    "def start_targeted_sentiment_job(input_s3_url, output_s3_url):\n",
    "    input_data_config = {\n",
    "        'S3Uri': input_s3_url,\n",
    "        'InputFormat': input_doc_format\n",
    "    }\n",
    "\n",
    "    output_data_config = {\n",
    "        'S3Uri': output_s3_url\n",
    "    }\n",
    "\n",
    "    job_name = 'Targeted_Sentiment_Job_{}'.format(job_suffix)\n",
    "    \n",
    "    comprehend = boto3.client('comprehend', region_name=region)\n",
    "    return comprehend.start_targeted_sentiment_detection_job(InputDataConfig=input_data_config,\n",
    "                                                             OutputDataConfig=output_data_config, \n",
    "                                                             DataAccessRoleArn=data_access_role_arn, \n",
    "                                                             LanguageCode=language_code, \n",
    "                                                             JobName=job_name)\n",
    "\n",
    "\n",
    "response = start_targeted_sentiment_job(input_s3_url, output_s3_url)\n",
    "job_id = response['JobId']\n",
    "print('job_id: ' + job_id)"
   ]
  },
  {
   "cell_type": "code",
   "execution_count": 12,
   "id": "4bd10fce",
   "metadata": {},
   "outputs": [
    {
     "name": "stdout",
     "output_type": "stream",
     "text": [
      "job_status: IN_PROGRESS\n",
      "job_status: IN_PROGRESS\n",
      "job_status: IN_PROGRESS\n",
      "job_status: IN_PROGRESS\n",
      "job_status: IN_PROGRESS\n",
      "job_status: IN_PROGRESS\n",
      "job_status: IN_PROGRESS\n",
      "job_status: IN_PROGRESS\n",
      "job_status: IN_PROGRESS\n",
      "job_status: IN_PROGRESS\n",
      "job_status: IN_PROGRESS\n",
      "job_status: IN_PROGRESS\n",
      "job_status: COMPLETED\n"
     ]
    }
   ],
   "source": [
    "while True:\n",
    "    result = comprehend.describe_targeted_sentiment_detection_job(JobId=job_id)\n",
    "    job_status = result[\"TargetedSentimentDetectionJobProperties\"][\"JobStatus\"]\n",
    "    if job_status in ['COMPLETED', 'FAILED']:\n",
    "        print(\"job_status: \" + job_status)\n",
    "        break\n",
    "    else:\n",
    "        print(\"job_status: \" + job_status)\n",
    "        time.sleep(60)"
   ]
  },
  {
   "cell_type": "markdown",
   "id": "0bd63777",
   "metadata": {},
   "source": [
    "## Download the data locally\n",
    "\n",
    "Download the results so that we can analyse what we can do with the dataset"
   ]
  },
  {
   "cell_type": "code",
   "execution_count": 20,
   "id": "39a79ebc",
   "metadata": {},
   "outputs": [],
   "source": [
    "def download_results(job_id, bucket_name, file_name):\n",
    "    comprehend = boto3.client('comprehend', region_name=region)\n",
    "    result = comprehend.describe_targeted_sentiment_detection_job(JobId=job_id)\n",
    "    result_s3_url = result['TargetedSentimentDetectionJobProperties']['OutputDataConfig']['S3Uri']\n",
    "    s3_name = 's3://{}/'.format(bucket_name)\n",
    "    results_aws_filename = result_s3_url.replace(s3_name, '')\n",
    "    s3 = boto3.client('s3')\n",
    "    s3.download_file(bucket_name, results_aws_filename, file_name)\n",
    "\n",
    "local_results_filename = './results-{}.tar.gz'.format(job_suffix)\n",
    "download_results(job_id, output_bucket, local_results_filename)"
   ]
  },
  {
   "cell_type": "code",
   "execution_count": 22,
   "id": "a0d74775",
   "metadata": {},
   "outputs": [],
   "source": [
    "def extract_targz(targz_file, output_path=''):\n",
    "    if targz_file.endswith(\"tar.gz\"):\n",
    "        tar = tarfile.open(targz_file, \"r:gz\")\n",
    "        tar.extractall(path = output_path)\n",
    "        tar.close()\n",
    "    elif targz_file.endswith(\"tar\"):\n",
    "        tar = tarfile.open(targz_file, \"r:\")\n",
    "        tar.extractall(path=output_path)\n",
    "        tar.close()\n",
    "\n",
    "output_path = 'output'\n",
    "extract_targz(local_results_filename, output_path)"
   ]
  }
 ],
 "metadata": {
  "kernelspec": {
   "display_name": "Python 3 (ipykernel)",
   "language": "python",
   "name": "python3"
  },
  "language_info": {
   "codemirror_mode": {
    "name": "ipython",
    "version": 3
   },
   "file_extension": ".py",
   "mimetype": "text/x-python",
   "name": "python",
   "nbconvert_exporter": "python",
   "pygments_lexer": "ipython3",
   "version": "3.9.10"
  }
 },
 "nbformat": 4,
 "nbformat_minor": 5
}
