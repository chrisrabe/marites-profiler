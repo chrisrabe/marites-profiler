{
 "cells": [
  {
   "cell_type": "markdown",
   "id": "694a0932",
   "metadata": {},
   "source": [
    "# Marites Output Transform\n",
    "\n",
    "Contains logic for the output transformation"
   ]
  },
  {
   "cell_type": "code",
   "execution_count": 1,
   "id": "36607198",
   "metadata": {},
   "outputs": [
    {
     "name": "stdout",
     "output_type": "stream",
     "text": [
      "Import successful.\n"
     ]
    }
   ],
   "source": [
    "import boto3\n",
    "import tarfile\n",
    "from io import BytesIO, TextIOWrapper\n",
    "import json\n",
    "import re\n",
    "import pandas as pd\n",
    "import os\n",
    "from dotenv import load_dotenv\n",
    "import pyTigerGraph as tg\n",
    "\n",
    "load_dotenv()\n",
    "print(\"Import successful.\")"
   ]
  },
  {
   "cell_type": "code",
   "execution_count": 2,
   "id": "0f8ba635",
   "metadata": {},
   "outputs": [],
   "source": [
    "# constants\n",
    "output_bucket = 'marites-comprehend-output'\n",
    "file_path = '8454a2d2-1eee-4e6f-9107-aa3fe249bc80/elonmusk/368767127050-TS-9dc7aaeeb573b83c385ac0cca489f9cf/output/output.tar.gz'\n",
    "\n",
    "tg_graph = \"marites\"\n",
    "tg_host = os.environ.get(\"TG_HOST\")\n",
    "tg_password = os.environ.get(\"TG_PASSWORD\")"
   ]
  },
  {
   "cell_type": "markdown",
   "id": "789b53b0",
   "metadata": {},
   "source": [
    "## Extract file from S3 bucket"
   ]
  },
  {
   "cell_type": "code",
   "execution_count": 3,
   "id": "e7faa54d",
   "metadata": {},
   "outputs": [],
   "source": [
    "s3 = boto3.client('s3')\n",
    "input_tar_file = s3.get_object(Bucket=output_bucket,Key=file_path)\n",
    "input_tar_content = input_tar_file['Body'].read()"
   ]
  },
  {
   "cell_type": "code",
   "execution_count": 4,
   "id": "3e9b0fe0",
   "metadata": {},
   "outputs": [],
   "source": [
    "def map_result(data):\n",
    "    json_data = json.loads(data)\n",
    "    filename = json_data['File']\n",
    "    line_num = json_data['Line']\n",
    "    tag = re.search('(.*)_(.*).txt', filename).group(2)\n",
    "    \n",
    "    line_id = '{}-{}'.format(line_num, tag)\n",
    "    \n",
    "    results = []\n",
    "    \n",
    "    for entity in json_data['Entities']:\n",
    "        for mention in entity['Mentions']:\n",
    "            sentiment_data = mention['MentionSentiment']\n",
    "            sentiment_scores = sentiment_data['SentimentScore']\n",
    "            \n",
    "            topic = {\n",
    "                'line_id': line_id,\n",
    "                'text': mention['Text'],\n",
    "                'type': mention['Type'],\n",
    "                'sentiment': sentiment_data['Sentiment'],\n",
    "                'positive_score': sentiment_scores['Positive'],\n",
    "                'negative_score': sentiment_scores['Negative'],\n",
    "                'neutral_score': sentiment_scores['Neutral'],\n",
    "                'mixed_score': sentiment_scores['Mixed']\n",
    "            }\n",
    "\n",
    "            results.append(topic)\n",
    "\n",
    "    return results"
   ]
  },
  {
   "cell_type": "code",
   "execution_count": 5,
   "id": "50b76079",
   "metadata": {},
   "outputs": [],
   "source": [
    "entities = [];\n",
    "\n",
    "with tarfile.open(fileobj=BytesIO(input_tar_content)) as tar:\n",
    "    for tar_resource in tar:\n",
    "        file = TextIOWrapper(tar.extractfile(tar_resource), encoding='utf-8')\n",
    "        lines = file.readlines()\n",
    "        for line in lines:\n",
    "            results = map_result(line)\n",
    "            entities.extend(results)\n"
   ]
  },
  {
   "cell_type": "code",
   "execution_count": 6,
   "id": "6c67655c",
   "metadata": {},
   "outputs": [],
   "source": [
    "topic_df = pd.DataFrame(entities)"
   ]
  },
  {
   "cell_type": "code",
   "execution_count": 10,
   "id": "991951a4",
   "metadata": {},
   "outputs": [
    {
     "data": {
      "text/html": [
       "<div>\n",
       "<style scoped>\n",
       "    .dataframe tbody tr th:only-of-type {\n",
       "        vertical-align: middle;\n",
       "    }\n",
       "\n",
       "    .dataframe tbody tr th {\n",
       "        vertical-align: top;\n",
       "    }\n",
       "\n",
       "    .dataframe thead th {\n",
       "        text-align: right;\n",
       "    }\n",
       "</style>\n",
       "<table border=\"1\" class=\"dataframe\">\n",
       "  <thead>\n",
       "    <tr style=\"text-align: right;\">\n",
       "      <th></th>\n",
       "      <th>line_id</th>\n",
       "      <th>text</th>\n",
       "      <th>type</th>\n",
       "      <th>sentiment</th>\n",
       "      <th>positive_score</th>\n",
       "      <th>negative_score</th>\n",
       "      <th>neutral_score</th>\n",
       "      <th>mixed_score</th>\n",
       "    </tr>\n",
       "  </thead>\n",
       "  <tbody>\n",
       "    <tr>\n",
       "      <th>0</th>\n",
       "      <td>0-04-13-22-elonmusk</td>\n",
       "      <td>69.420%</td>\n",
       "      <td>QUANTITY</td>\n",
       "      <td>NEUTRAL</td>\n",
       "      <td>0.000005</td>\n",
       "      <td>0.000019</td>\n",
       "      <td>0.999973</td>\n",
       "      <td>0.000003</td>\n",
       "    </tr>\n",
       "    <tr>\n",
       "      <th>1</th>\n",
       "      <td>0-04-13-22-elonmusk</td>\n",
       "      <td>statistics</td>\n",
       "      <td>OTHER</td>\n",
       "      <td>NEUTRAL</td>\n",
       "      <td>0.000000</td>\n",
       "      <td>0.000005</td>\n",
       "      <td>0.999994</td>\n",
       "      <td>0.000000</td>\n",
       "    </tr>\n",
       "    <tr>\n",
       "      <th>2</th>\n",
       "      <td>1-04-13-22-elonmusk</td>\n",
       "      <td>first</td>\n",
       "      <td>QUANTITY</td>\n",
       "      <td>NEUTRAL</td>\n",
       "      <td>0.000001</td>\n",
       "      <td>0.000000</td>\n",
       "      <td>0.999998</td>\n",
       "      <td>0.000001</td>\n",
       "    </tr>\n",
       "    <tr>\n",
       "      <th>3</th>\n",
       "      <td>2-04-13-22-elonmusk</td>\n",
       "      <td>you</td>\n",
       "      <td>PERSON</td>\n",
       "      <td>POSITIVE</td>\n",
       "      <td>1.000000</td>\n",
       "      <td>0.000000</td>\n",
       "      <td>0.000000</td>\n",
       "      <td>0.000000</td>\n",
       "    </tr>\n",
       "    <tr>\n",
       "      <th>4</th>\n",
       "      <td>2-04-13-22-elonmusk</td>\n",
       "      <td>everyone</td>\n",
       "      <td>PERSON</td>\n",
       "      <td>POSITIVE</td>\n",
       "      <td>0.999997</td>\n",
       "      <td>0.000001</td>\n",
       "      <td>0.000002</td>\n",
       "      <td>0.000000</td>\n",
       "    </tr>\n",
       "  </tbody>\n",
       "</table>\n",
       "</div>"
      ],
      "text/plain": [
       "               line_id        text      type sentiment  positive_score  \\\n",
       "0  0-04-13-22-elonmusk     69.420%  QUANTITY   NEUTRAL        0.000005   \n",
       "1  0-04-13-22-elonmusk  statistics     OTHER   NEUTRAL        0.000000   \n",
       "2  1-04-13-22-elonmusk       first  QUANTITY   NEUTRAL        0.000001   \n",
       "3  2-04-13-22-elonmusk         you    PERSON  POSITIVE        1.000000   \n",
       "4  2-04-13-22-elonmusk    everyone    PERSON  POSITIVE        0.999997   \n",
       "\n",
       "   negative_score  neutral_score  mixed_score  \n",
       "0        0.000019       0.999973     0.000003  \n",
       "1        0.000005       0.999994     0.000000  \n",
       "2        0.000000       0.999998     0.000001  \n",
       "3        0.000000       0.000000     0.000000  \n",
       "4        0.000001       0.000002     0.000000  "
      ]
     },
     "execution_count": 10,
     "metadata": {},
     "output_type": "execute_result"
    }
   ],
   "source": [
    "topic_df.head()"
   ]
  },
  {
   "cell_type": "markdown",
   "id": "39db0656",
   "metadata": {},
   "source": [
    "## Push output data to Tigergraph"
   ]
  },
  {
   "cell_type": "code",
   "execution_count": 7,
   "id": "7345e35d",
   "metadata": {},
   "outputs": [
    {
     "data": {
      "text/plain": [
       "('99da2nc4m9ajplde6eaa5av3bk8bb5jl', 1652515653, '2022-05-14 08:07:33')"
      ]
     },
     "execution_count": 7,
     "metadata": {},
     "output_type": "execute_result"
    }
   ],
   "source": [
    "conn = tg.TigerGraphConnection(host=tg_host, graphname=tg_graph, password=tg_password)\n",
    "secret = conn.createSecret()\n",
    "conn.getToken(secret=secret)"
   ]
  },
  {
   "cell_type": "code",
   "execution_count": 8,
   "id": "841f4afc",
   "metadata": {},
   "outputs": [
    {
     "data": {
      "text/plain": [
       "5873"
      ]
     },
     "execution_count": 8,
     "metadata": {},
     "output_type": "execute_result"
    }
   ],
   "source": [
    "# Create topic vertex\n",
    "conn.upsertVertexDataFrame(\n",
    "    df=topic_df,\n",
    "    vertexType='topic',\n",
    "    v_id='text',\n",
    "    attributes={ 'text': 'text', 'type': 'type' }\n",
    ")"
   ]
  },
  {
   "cell_type": "code",
   "execution_count": 9,
   "id": "81154ea4",
   "metadata": {},
   "outputs": [
    {
     "data": {
      "text/plain": [
       "13430"
      ]
     },
     "execution_count": 9,
     "metadata": {},
     "output_type": "execute_result"
    }
   ],
   "source": [
    "# Create post_topic edges\n",
    "conn.upsertEdgeDataFrame(\n",
    "    df=topic_df,\n",
    "    sourceVertexType='post',\n",
    "    edgeType='topic_sentiment',\n",
    "    targetVertexType='topic',\n",
    "    from_id='line_id',\n",
    "    to_id='text',\n",
    "    attributes={ \n",
    "        'topic': 'text',\n",
    "        'sentiment': 'sentiment',\n",
    "        'positive_score': 'positive_score',\n",
    "        'negative_score': 'negative_score',\n",
    "        'neutral_score': 'neutral_score',\n",
    "        'mixed_score': 'mixed_score'\n",
    "    }\n",
    ")"
   ]
  }
 ],
 "metadata": {
  "kernelspec": {
   "display_name": "Python 3 (ipykernel)",
   "language": "python",
   "name": "python3"
  },
  "language_info": {
   "codemirror_mode": {
    "name": "ipython",
    "version": 3
   },
   "file_extension": ".py",
   "mimetype": "text/x-python",
   "name": "python",
   "nbconvert_exporter": "python",
   "pygments_lexer": "ipython3",
   "version": "3.9.10"
  }
 },
 "nbformat": 4,
 "nbformat_minor": 5
}
