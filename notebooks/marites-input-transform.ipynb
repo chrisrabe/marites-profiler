{
 "cells": [
  {
   "cell_type": "markdown",
   "id": "b800176a",
   "metadata": {},
   "source": [
    "# Marites Input Transform\n",
    "\n",
    "Code for transforming input CSV from S3 bucket and creating the graph"
   ]
  },
  {
   "cell_type": "code",
   "execution_count": 1,
   "id": "48d3d964",
   "metadata": {},
   "outputs": [
    {
     "name": "stdout",
     "output_type": "stream",
     "text": [
      "Import complete.\n"
     ]
    }
   ],
   "source": [
    "import pyTigerGraph as tg\n",
    "from dotenv import load_dotenv\n",
    "import os\n",
    "import boto3\n",
    "import pandas as pd\n",
    "\n",
    "load_dotenv()\n",
    "print(\"Import complete.\")"
   ]
  },
  {
   "cell_type": "code",
   "execution_count": 2,
   "id": "0d61ea43",
   "metadata": {},
   "outputs": [],
   "source": [
    "# Constants\n",
    "\n",
    "tg_graph = \"marites\"\n",
    "tg_host = os.environ.get(\"TG_HOST\")\n",
    "tg_password = os.environ.get(\"TG_PASSWORD\")\n",
    "\n",
    "input_bucket = 'marites-comprehend-input'\n",
    "input_folder = '8454a2d2-1eee-4e6f-9107-aa3fe249bc80/elonmusk/tigergraph'"
   ]
  },
  {
   "cell_type": "code",
   "execution_count": null,
   "id": "cd10e78a",
   "metadata": {},
   "outputs": [],
   "source": [
    "conn = tg.TigerGraphConnection(host=tg_host, graphname=tg_graph, password=tg_password)"
   ]
  },
  {
   "cell_type": "code",
   "execution_count": 7,
   "id": "c330b8ee",
   "metadata": {
    "scrolled": true
   },
   "outputs": [
    {
     "name": "stdout",
     "output_type": "stream",
     "text": [
      "---- Global vertices, edges, and all graphs\n",
      "Vertex Types:\n",
      "- VERTEX person(PRIMARY_ID name STRING, name STRING, age INT, gender STRING, state STRING) WITH STATS=\"OUTDEGREE_BY_EDGETYPE\"\n",
      "Edge Types:\n",
      "- UNDIRECTED EDGE friendship(FROM person, TO person, connect_day DATETIME)\n",
      "\n",
      "Graphs:\n",
      "- Graph social(person:v, friendship:e)\n",
      "Jobs:\n",
      "\n",
      "\n",
      "JSON API version: v2\n",
      "Syntax version: v2\n",
      "\n"
     ]
    }
   ],
   "source": [
    "print(conn.gsql('ls', options=[]))"
   ]
  },
  {
   "cell_type": "markdown",
   "id": "3584dc3f",
   "metadata": {},
   "source": [
    "## Create graph schema"
   ]
  },
  {
   "cell_type": "code",
   "execution_count": null,
   "id": "ffd33523",
   "metadata": {},
   "outputs": [],
   "source": [
    "print(conn.gsql('use global drop all'))"
   ]
  },
  {
   "cell_type": "code",
   "execution_count": 5,
   "id": "bfd34edc",
   "metadata": {
    "scrolled": true
   },
   "outputs": [
    {
     "name": "stdout",
     "output_type": "stream",
     "text": [
      "Successfully created vertex types: [user].\n",
      "Successfully created vertex types: [post].\n",
      "Successfully created vertex types: [topic].\n",
      "Successfully created edge types: [following].\n",
      "Successfully created edge types: [tweet].\n",
      "Successfully created edge types: [post_topic].\n",
      "Stopping GPE GSE RESTPP\n",
      "Successfully stopped GPE GSE RESTPP in 30.306 seconds\n",
      "Starting GPE GSE RESTPP\n",
      "Successfully started GPE GSE RESTPP in 0.201 seconds\n",
      "The graph marites is created.\n"
     ]
    }
   ],
   "source": [
    "print(conn.gsql('''\n",
    "use global\n",
    "\n",
    "create vertex user (primary_id username string, name string, username string)\n",
    "\n",
    "create vertex post (\n",
    "    primary_id line_id string,\n",
    "    line_id string,\n",
    "    tweet_id int,\n",
    "    username string,\n",
    "    text string,\n",
    "    created_at datetime\n",
    ")\n",
    "\n",
    "create vertex topic (\n",
    "    primary_id text string,\n",
    "    text string,\n",
    "    type string,\n",
    ")\n",
    "\n",
    "create directed edge following (from user, to user, connect_day string)\n",
    "create undirected edge tweet (from user, to post, created_at datetime)\n",
    "create undirected edge post_topic (\n",
    "    from post,\n",
    "    to topic,\n",
    "    topic string,\n",
    "    sentiment string,\n",
    "    positive_score double,\n",
    "    negative_score double,\n",
    "    neutral_score double,\n",
    "    mixed_score double\n",
    ")\n",
    "\n",
    "create graph marites(user, post, topic, following, tweet, post_topic)\n",
    "'''))"
   ]
  },
  {
   "cell_type": "markdown",
   "id": "99ed333f",
   "metadata": {},
   "source": [
    "## Load input data from S3 bucket\n"
   ]
  },
  {
   "cell_type": "code",
   "execution_count": 6,
   "id": "462b1e94",
   "metadata": {},
   "outputs": [],
   "source": [
    "def get_file_from_s3(bucket, folder, filename):\n",
    "    s3 = boto3.client('s3')\n",
    "    s3_key = '{}/{}'.format(folder, filename)\n",
    "    response = s3.get_object(Bucket=bucket, Key=s3_key)\n",
    "    status_code = response.get('ResponseMetadata', {}).get(\"HTTPStatusCode\")\n",
    "    if status_code == 200:\n",
    "        return pd.read_csv(response.get(\"Body\"))\n",
    "    else:\n",
    "        raise Exception(\"Unsuccessful S3 get object\")"
   ]
  },
  {
   "cell_type": "code",
   "execution_count": 7,
   "id": "7b8f0d30",
   "metadata": {},
   "outputs": [],
   "source": [
    "following = get_file_from_s3(input_bucket, input_folder, 'following.csv')\n",
    "users = get_file_from_s3(input_bucket, input_folder, 'users.csv')\n",
    "posts = get_file_from_s3(input_bucket, input_folder, 'posts.csv')"
   ]
  },
  {
   "cell_type": "code",
   "execution_count": 8,
   "id": "b710b9f3",
   "metadata": {},
   "outputs": [
    {
     "data": {
      "text/html": [
       "<div>\n",
       "<style scoped>\n",
       "    .dataframe tbody tr th:only-of-type {\n",
       "        vertical-align: middle;\n",
       "    }\n",
       "\n",
       "    .dataframe tbody tr th {\n",
       "        vertical-align: top;\n",
       "    }\n",
       "\n",
       "    .dataframe thead th {\n",
       "        text-align: right;\n",
       "    }\n",
       "</style>\n",
       "<table border=\"1\" class=\"dataframe\">\n",
       "  <thead>\n",
       "    <tr style=\"text-align: right;\">\n",
       "      <th></th>\n",
       "      <th>tweet_id</th>\n",
       "      <th>username</th>\n",
       "      <th>created_at</th>\n",
       "      <th>text</th>\n",
       "      <th>line_id</th>\n",
       "    </tr>\n",
       "  </thead>\n",
       "  <tbody>\n",
       "    <tr>\n",
       "      <th>0</th>\n",
       "      <td>1512886651940491270</td>\n",
       "      <td>elonmusk</td>\n",
       "      <td>2022-04-09T20:14:20.000Z</td>\n",
       "      <td>69.420% of statistics are false</td>\n",
       "      <td>0-04-13-22-elonmusk</td>\n",
       "    </tr>\n",
       "    <tr>\n",
       "      <th>1</th>\n",
       "      <td>1512886157876600833</td>\n",
       "      <td>elonmusk</td>\n",
       "      <td>2022-04-09T20:12:22.000Z</td>\n",
       "      <td>Truth is the first casualty.</td>\n",
       "      <td>1-04-13-22-elonmusk</td>\n",
       "    </tr>\n",
       "    <tr>\n",
       "      <th>2</th>\n",
       "      <td>1512813698011836422</td>\n",
       "      <td>elonmusk</td>\n",
       "      <td>2022-04-09T15:24:26.000Z</td>\n",
       "      <td>Thank you to everyone who came out to celebrat...</td>\n",
       "      <td>2-04-13-22-elonmusk</td>\n",
       "    </tr>\n",
       "    <tr>\n",
       "      <th>3</th>\n",
       "      <td>1512787864458870787</td>\n",
       "      <td>elonmusk</td>\n",
       "      <td>2022-04-09T13:41:47.000Z</td>\n",
       "      <td>Docking confirmed!</td>\n",
       "      <td>3-04-13-22-elonmusk</td>\n",
       "    </tr>\n",
       "    <tr>\n",
       "      <th>4</th>\n",
       "      <td>1512785529712123906</td>\n",
       "      <td>elonmusk</td>\n",
       "      <td>2022-04-09T13:32:31.000Z</td>\n",
       "      <td>TOP 10 most followed Twitter accounts:    1. @...</td>\n",
       "      <td>4-04-13-22-elonmusk</td>\n",
       "    </tr>\n",
       "  </tbody>\n",
       "</table>\n",
       "</div>"
      ],
      "text/plain": [
       "              tweet_id  username                created_at  \\\n",
       "0  1512886651940491270  elonmusk  2022-04-09T20:14:20.000Z   \n",
       "1  1512886157876600833  elonmusk  2022-04-09T20:12:22.000Z   \n",
       "2  1512813698011836422  elonmusk  2022-04-09T15:24:26.000Z   \n",
       "3  1512787864458870787  elonmusk  2022-04-09T13:41:47.000Z   \n",
       "4  1512785529712123906  elonmusk  2022-04-09T13:32:31.000Z   \n",
       "\n",
       "                                                text              line_id  \n",
       "0                    69.420% of statistics are false  0-04-13-22-elonmusk  \n",
       "1                      Truth is the first casualty.   1-04-13-22-elonmusk  \n",
       "2  Thank you to everyone who came out to celebrat...  2-04-13-22-elonmusk  \n",
       "3                                Docking confirmed!   3-04-13-22-elonmusk  \n",
       "4  TOP 10 most followed Twitter accounts:    1. @...  4-04-13-22-elonmusk  "
      ]
     },
     "execution_count": 8,
     "metadata": {},
     "output_type": "execute_result"
    }
   ],
   "source": [
    "posts.head()"
   ]
  },
  {
   "cell_type": "code",
   "execution_count": 9,
   "id": "c751fb16",
   "metadata": {},
   "outputs": [
    {
     "data": {
      "text/plain": [
       "('nnab894n9i3h54tcslm4orldu6n99ccp', 1652509248, '2022-05-14 06:20:48')"
      ]
     },
     "execution_count": 9,
     "metadata": {},
     "output_type": "execute_result"
    }
   ],
   "source": [
    "secret = conn.createSecret()\n",
    "conn.getToken(secret=secret)"
   ]
  },
  {
   "cell_type": "code",
   "execution_count": 10,
   "id": "3ad10d03",
   "metadata": {},
   "outputs": [
    {
     "data": {
      "text/plain": [
       "114"
      ]
     },
     "execution_count": 10,
     "metadata": {},
     "output_type": "execute_result"
    }
   ],
   "source": [
    "# Create users vertex\n",
    "conn.upsertVertexDataFrame(\n",
    "    df=users,\n",
    "    vertexType='user',\n",
    "    v_id='username',\n",
    "    attributes={'name': 'name', 'username': 'username'})"
   ]
  },
  {
   "cell_type": "code",
   "execution_count": 11,
   "id": "aa70e364",
   "metadata": {},
   "outputs": [
    {
     "data": {
      "text/plain": [
       "2347"
      ]
     },
     "execution_count": 11,
     "metadata": {},
     "output_type": "execute_result"
    }
   ],
   "source": [
    "# Create posts vertex\n",
    "conn.upsertVertexDataFrame(df=posts, vertexType='post', v_id='line_id')"
   ]
  },
  {
   "cell_type": "code",
   "execution_count": 12,
   "id": "9fb4193e",
   "metadata": {},
   "outputs": [
    {
     "data": {
      "text/plain": [
       "113"
      ]
     },
     "execution_count": 12,
     "metadata": {},
     "output_type": "execute_result"
    }
   ],
   "source": [
    "# Create following edges\n",
    "conn.upsertEdgeDataFrame(\n",
    "    df=following,\n",
    "    sourceVertexType='user',\n",
    "    edgeType='following',\n",
    "    targetVertexType='user',\n",
    "    from_id='user',\n",
    "    to_id='following',\n",
    "    attributes={ 'connect_day': 'date' })"
   ]
  },
  {
   "cell_type": "code",
   "execution_count": 13,
   "id": "d2d933a4",
   "metadata": {},
   "outputs": [
    {
     "data": {
      "text/plain": [
       "2347"
      ]
     },
     "execution_count": 13,
     "metadata": {},
     "output_type": "execute_result"
    }
   ],
   "source": [
    "# Create tweet edges\n",
    "conn.upsertEdgeDataFrame(\n",
    "    df=posts,\n",
    "    sourceVertexType='user',\n",
    "    edgeType='tweet',\n",
    "    targetVertexType='post',\n",
    "    from_id='username',\n",
    "    to_id='line_id',\n",
    "    attributes={ 'created_at': 'created_at' })"
   ]
  }
 ],
 "metadata": {
  "kernelspec": {
   "display_name": "Python 3 (ipykernel)",
   "language": "python",
   "name": "python3"
  },
  "language_info": {
   "codemirror_mode": {
    "name": "ipython",
    "version": 3
   },
   "file_extension": ".py",
   "mimetype": "text/x-python",
   "name": "python",
   "nbconvert_exporter": "python",
   "pygments_lexer": "ipython3",
   "version": "3.9.10"
  }
 },
 "nbformat": 4,
 "nbformat_minor": 5
}
