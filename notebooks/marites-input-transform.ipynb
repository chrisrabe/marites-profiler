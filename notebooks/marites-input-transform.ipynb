{
 "cells": [
  {
   "cell_type": "markdown",
   "id": "b800176a",
   "metadata": {},
   "source": [
    "# Marites Input Transform\n",
    "\n",
    "Code for transforming input CSV from S3 bucket and creating the graph"
   ]
  },
  {
   "cell_type": "code",
   "execution_count": 1,
   "id": "48d3d964",
   "metadata": {},
   "outputs": [
    {
     "name": "stdout",
     "output_type": "stream",
     "text": [
      "Import complete.\n"
     ]
    }
   ],
   "source": [
    "import pyTigerGraph as tg\n",
    "from dotenv import load_dotenv\n",
    "import os\n",
    "import boto3\n",
    "import pandas as pd\n",
    "import tarfile\n",
    "import re\n",
    "from io import BytesIO\n",
    "\n",
    "load_dotenv()\n",
    "print(\"Import complete.\")"
   ]
  },
  {
   "cell_type": "code",
   "execution_count": 3,
   "id": "0d61ea43",
   "metadata": {},
   "outputs": [],
   "source": [
    "# Constants\n",
    "\n",
    "tg_graph = \"marites\"\n",
    "tg_host = os.environ.get(\"TG_HOST\")\n",
    "tg_password = os.environ.get(\"TG_PASSWORD\")\n",
    "\n",
    "input_bucket = 'marites-comprehend-input'\n",
    "input_file = 'tigergraph/f57f7e2b-a5eb-4e17-ad67-aee466d00d12/elonmusk.tar.gz'"
   ]
  },
  {
   "cell_type": "code",
   "execution_count": 4,
   "id": "cd10e78a",
   "metadata": {},
   "outputs": [],
   "source": [
    "conn = tg.TigerGraphConnection(host=tg_host, graphname=tg_graph, password=tg_password)"
   ]
  },
  {
   "cell_type": "code",
   "execution_count": null,
   "id": "c330b8ee",
   "metadata": {
    "scrolled": true
   },
   "outputs": [],
   "source": [
    "print(conn.gsql('ls', options=[]))"
   ]
  },
  {
   "cell_type": "markdown",
   "id": "3584dc3f",
   "metadata": {},
   "source": [
    "## Create graph schema"
   ]
  },
  {
   "cell_type": "code",
   "execution_count": 10,
   "id": "03aa2805",
   "metadata": {},
   "outputs": [
    {
     "data": {
      "text/plain": [
       "'Dropping all, about 1 minute ...\\nAbort all active loading jobs\\nTry to abort all loading jobs on graph marites, it may take a while ...\\n[ABORT_SUCCESS] No active Loading Job to abort.\\nResetting GPE...\\nSuccessfully reset GPE and GSE\\nStopping GPE GSE\\nSuccessfully stopped GPE GSE in 0.004 seconds\\nClearing graph store...\\nSuccessfully cleared graph store\\nStarting GPE GSE RESTPP\\nSuccessfully started GPE GSE RESTPP in 0.151 seconds\\nEverything is dropped.'"
      ]
     },
     "execution_count": 10,
     "metadata": {},
     "output_type": "execute_result"
    }
   ],
   "source": [
    "conn.gsql('use global drop all')"
   ]
  },
  {
   "cell_type": "code",
   "execution_count": 24,
   "id": "ffd33523",
   "metadata": {},
   "outputs": [
    {
     "data": {
      "text/plain": [
       "'Successfully dropped edge types: [following].\\nSuccessfully dropped edge types: [created_post].\\nSuccessfully dropped edge types: [topic_sentiment].\\nSuccessfully dropped vertex types: [user].\\nSuccessfully dropped vertex types: [post].\\nSuccessfully dropped vertex types: [topic].\\nThe graph marites could not be dropped!'"
      ]
     },
     "execution_count": 24,
     "metadata": {},
     "output_type": "execute_result"
    }
   ],
   "source": [
    "conn.gsql('''\n",
    "\n",
    "drop edge following\n",
    "drop edge created_post\n",
    "drop edge topic_sentiment\n",
    "\n",
    "drop vertex user\n",
    "drop vertex post\n",
    "drop vertex topic\n",
    "\n",
    "drop graph marites\n",
    "\n",
    "''')"
   ]
  },
  {
   "cell_type": "code",
   "execution_count": 11,
   "id": "bfd34edc",
   "metadata": {
    "scrolled": true
   },
   "outputs": [
    {
     "name": "stdout",
     "output_type": "stream",
     "text": [
      "Successfully created vertex types: [user].\n",
      "Successfully created vertex types: [post].\n",
      "Successfully created vertex types: [topic].\n",
      "Successfully created edge types: [following].\n",
      "Successfully created edge types: [created_post].\n",
      "Successfully created edge types: [topic_sentiment].\n",
      "Stopping GPE GSE RESTPP\n",
      "Successfully stopped GPE GSE RESTPP in 1.243 seconds\n",
      "Starting GPE GSE RESTPP\n",
      "Successfully started GPE GSE RESTPP in 0.145 seconds\n",
      "The graph marites is created.\n"
     ]
    }
   ],
   "source": [
    "print(conn.gsql('''\n",
    "use global\n",
    "\n",
    "create vertex user (primary_id username string, name string, username string)\n",
    "\n",
    "create vertex post (\n",
    "    primary_id line_id string,\n",
    "    line_id string,\n",
    "    tweet_id int,\n",
    "    username string,\n",
    "    text string,\n",
    "    created_at datetime\n",
    ")\n",
    "\n",
    "create vertex topic (\n",
    "    primary_id text string,\n",
    "    text string,\n",
    "    type string\n",
    ")\n",
    "\n",
    "create directed edge following (from user, to user, connect_day string)\n",
    "create undirected edge created_post (from user, to post, created_at datetime)\n",
    "create undirected edge topic_sentiment (\n",
    "    from post,\n",
    "    to topic,\n",
    "    topic string,\n",
    "    sentiment string,\n",
    "    positive_score double,\n",
    "    negative_score double,\n",
    "    neutral_score double,\n",
    "    mixed_score double\n",
    ")\n",
    "\n",
    "create graph marites(user, post, topic, following, created_post, topic_sentiment)\n",
    "'''))"
   ]
  },
  {
   "cell_type": "markdown",
   "id": "99ed333f",
   "metadata": {},
   "source": [
    "## Load input data from S3 bucket\n"
   ]
  },
  {
   "cell_type": "code",
   "execution_count": 11,
   "id": "7410a6e6",
   "metadata": {},
   "outputs": [
    {
     "data": {
      "text/plain": [
       "'following'"
      ]
     },
     "execution_count": 11,
     "metadata": {},
     "output_type": "execute_result"
    }
   ],
   "source": [
    "filename = 'output/following.csv'\n",
    "tag = re.search('(.*)/(.*).csv', filename).group(2)\n",
    "tag"
   ]
  },
  {
   "cell_type": "code",
   "execution_count": 13,
   "id": "462b1e94",
   "metadata": {},
   "outputs": [],
   "source": [
    "def get_frames_from_s3(bucket, s3_key):\n",
    "    s3 = boto3.client('s3')\n",
    "    input_tar_file = s3.get_object(Bucket=bucket, Key=s3_key)\n",
    "    input_tar_content = input_tar_file['Body'].read()\n",
    "    \n",
    "    tar = tarfile.open(fileobj=BytesIO(input_tar_content))\n",
    "    \n",
    "    contents = {}\n",
    "    \n",
    "    for tar_resource in tar:\n",
    "        filename = tar_resource.name\n",
    "        key = re.search('(.*)/(.*).csv', filename).group(2)\n",
    "        df = pd.read_csv(tar.extractfile(tar_resource), header=0)\n",
    "        contents[key] = df\n",
    "        \n",
    "    return contents\n",
    "\n",
    "def get_file_from_s3(bucket, folder, filename):\n",
    "    s3 = boto3.client('s3')\n",
    "    s3_key = '{}/{}'.format(folder, filename)\n",
    "    response = s3.get_object(Bucket=bucket, Key=s3_key)\n",
    "    status_code = response.get('ResponseMetadata', {}).get(\"HTTPStatusCode\")\n",
    "    if status_code == 200:\n",
    "        return pd.read_csv(response.get(\"Body\"))\n",
    "    else:\n",
    "        raise Exception(\"Unsuccessful S3 get object\")"
   ]
  },
  {
   "cell_type": "code",
   "execution_count": 15,
   "id": "7b8f0d30",
   "metadata": {},
   "outputs": [],
   "source": [
    "input_frames = get_frames_from_s3(input_bucket, input_file)\n",
    "\n",
    "following = input_frames['following']\n",
    "users = input_frames['users']\n",
    "posts = input_frames['posts']"
   ]
  },
  {
   "cell_type": "code",
   "execution_count": 16,
   "id": "b710b9f3",
   "metadata": {},
   "outputs": [
    {
     "data": {
      "text/html": [
       "<div>\n",
       "<style scoped>\n",
       "    .dataframe tbody tr th:only-of-type {\n",
       "        vertical-align: middle;\n",
       "    }\n",
       "\n",
       "    .dataframe tbody tr th {\n",
       "        vertical-align: top;\n",
       "    }\n",
       "\n",
       "    .dataframe thead th {\n",
       "        text-align: right;\n",
       "    }\n",
       "</style>\n",
       "<table border=\"1\" class=\"dataframe\">\n",
       "  <thead>\n",
       "    <tr style=\"text-align: right;\">\n",
       "      <th></th>\n",
       "      <th>tweet_id</th>\n",
       "      <th>username</th>\n",
       "      <th>created_at</th>\n",
       "      <th>text</th>\n",
       "      <th>line_id</th>\n",
       "    </tr>\n",
       "  </thead>\n",
       "  <tbody>\n",
       "    <tr>\n",
       "      <th>0</th>\n",
       "      <td>1514720245113577473</td>\n",
       "      <td>elonmusk</td>\n",
       "      <td>2022-04-14T21:40:23.000Z</td>\n",
       "      <td>iu</td>\n",
       "      <td>1-04-15-22-elonmusk</td>\n",
       "    </tr>\n",
       "    <tr>\n",
       "      <th>1</th>\n",
       "      <td>1514698036760530945</td>\n",
       "      <td>elonmusk</td>\n",
       "      <td>2022-04-14T20:12:08.000Z</td>\n",
       "      <td>Taking Twitter private at $54.20 should be up ...</td>\n",
       "      <td>2-04-15-22-elonmusk</td>\n",
       "    </tr>\n",
       "    <tr>\n",
       "      <th>2</th>\n",
       "      <td>1514564966564651008</td>\n",
       "      <td>elonmusk</td>\n",
       "      <td>2022-04-14T11:23:21.000Z</td>\n",
       "      <td>I made an offer</td>\n",
       "      <td>3-04-15-22-elonmusk</td>\n",
       "    </tr>\n",
       "    <tr>\n",
       "      <th>3</th>\n",
       "      <td>1514529863855710214</td>\n",
       "      <td>elonmusk</td>\n",
       "      <td>2022-04-14T09:03:52.000Z</td>\n",
       "      <td>Photos from the @space_station of Dragon and t...</td>\n",
       "      <td>4-04-15-22-elonmusk</td>\n",
       "    </tr>\n",
       "    <tr>\n",
       "      <th>4</th>\n",
       "      <td>1512886651940491270</td>\n",
       "      <td>elonmusk</td>\n",
       "      <td>2022-04-09T20:14:20.000Z</td>\n",
       "      <td>69.420% of statistics are false</td>\n",
       "      <td>5-04-15-22-elonmusk</td>\n",
       "    </tr>\n",
       "  </tbody>\n",
       "</table>\n",
       "</div>"
      ],
      "text/plain": [
       "              tweet_id  username                created_at  \\\n",
       "0  1514720245113577473  elonmusk  2022-04-14T21:40:23.000Z   \n",
       "1  1514698036760530945  elonmusk  2022-04-14T20:12:08.000Z   \n",
       "2  1514564966564651008  elonmusk  2022-04-14T11:23:21.000Z   \n",
       "3  1514529863855710214  elonmusk  2022-04-14T09:03:52.000Z   \n",
       "4  1512886651940491270  elonmusk  2022-04-09T20:14:20.000Z   \n",
       "\n",
       "                                                text              line_id  \n",
       "0                                                 iu  1-04-15-22-elonmusk  \n",
       "1  Taking Twitter private at $54.20 should be up ...  2-04-15-22-elonmusk  \n",
       "2                                  I made an offer    3-04-15-22-elonmusk  \n",
       "3  Photos from the @space_station of Dragon and t...  4-04-15-22-elonmusk  \n",
       "4                    69.420% of statistics are false  5-04-15-22-elonmusk  "
      ]
     },
     "execution_count": 16,
     "metadata": {},
     "output_type": "execute_result"
    }
   ],
   "source": [
    "posts.head()"
   ]
  },
  {
   "cell_type": "code",
   "execution_count": 17,
   "id": "c751fb16",
   "metadata": {
    "scrolled": true
   },
   "outputs": [
    {
     "data": {
      "text/plain": [
       "('3p7ar843fo0koq7fkn8uoml0lsvmgitt', 1652582104, '2022-05-15 02:35:04')"
      ]
     },
     "execution_count": 17,
     "metadata": {},
     "output_type": "execute_result"
    }
   ],
   "source": [
    "secret = conn.createSecret()\n",
    "conn.getToken(secret=secret)"
   ]
  },
  {
   "cell_type": "code",
   "execution_count": 18,
   "id": "3ad10d03",
   "metadata": {},
   "outputs": [
    {
     "data": {
      "text/plain": [
       "115"
      ]
     },
     "execution_count": 18,
     "metadata": {},
     "output_type": "execute_result"
    }
   ],
   "source": [
    "# Create users vertex\n",
    "conn.upsertVertexDataFrame(\n",
    "    df=users,\n",
    "    vertexType='user',\n",
    "    v_id='username',\n",
    "    attributes={'name': 'name', 'username': 'username'})"
   ]
  },
  {
   "cell_type": "code",
   "execution_count": 19,
   "id": "aa70e364",
   "metadata": {},
   "outputs": [
    {
     "data": {
      "text/plain": [
       "2356"
      ]
     },
     "execution_count": 19,
     "metadata": {},
     "output_type": "execute_result"
    }
   ],
   "source": [
    "# Create posts vertex\n",
    "conn.upsertVertexDataFrame(df=posts, vertexType='post', v_id='line_id')"
   ]
  },
  {
   "cell_type": "code",
   "execution_count": 20,
   "id": "9fb4193e",
   "metadata": {},
   "outputs": [
    {
     "data": {
      "text/plain": [
       "114"
      ]
     },
     "execution_count": 20,
     "metadata": {},
     "output_type": "execute_result"
    }
   ],
   "source": [
    "# Create following edges\n",
    "conn.upsertEdgeDataFrame(\n",
    "    df=following,\n",
    "    sourceVertexType='user',\n",
    "    edgeType='following',\n",
    "    targetVertexType='user',\n",
    "    from_id='user',\n",
    "    to_id='following',\n",
    "    attributes={ 'connect_day': 'date' })"
   ]
  },
  {
   "cell_type": "code",
   "execution_count": 21,
   "id": "d2d933a4",
   "metadata": {},
   "outputs": [
    {
     "data": {
      "text/plain": [
       "2356"
      ]
     },
     "execution_count": 21,
     "metadata": {},
     "output_type": "execute_result"
    }
   ],
   "source": [
    "# Create tweet edges\n",
    "conn.upsertEdgeDataFrame(\n",
    "    df=posts,\n",
    "    sourceVertexType='user',\n",
    "    edgeType='created_post',\n",
    "    targetVertexType='post',\n",
    "    from_id='username',\n",
    "    to_id='line_id',\n",
    "    attributes={ 'created_at': 'created_at' })"
   ]
  }
 ],
 "metadata": {
  "kernelspec": {
   "display_name": "Python 3 (ipykernel)",
   "language": "python",
   "name": "python3"
  },
  "language_info": {
   "codemirror_mode": {
    "name": "ipython",
    "version": 3
   },
   "file_extension": ".py",
   "mimetype": "text/x-python",
   "name": "python",
   "nbconvert_exporter": "python",
   "pygments_lexer": "ipython3",
   "version": "3.9.10"
  }
 },
 "nbformat": 4,
 "nbformat_minor": 5
}
